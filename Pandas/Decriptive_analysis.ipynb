{
 "cells": [
  {
   "cell_type": "markdown",
   "metadata": {},
   "source": [
    "**Get the Descriptive Statistics for Pandas DataFrame**"
   ]
  },
  {
   "cell_type": "code",
   "execution_count": 2,
   "metadata": {},
   "outputs": [
    {
     "name": "stdout",
     "output_type": "stream",
     "text": [
      "            Brand  Price  Year\n",
      "0     Honda Civic  22000  2014\n",
      "1      Ford Focus  27000  2015\n",
      "2  Toyota Corolla  25000  2016\n",
      "3  Toyota Corolla  29000  2017\n",
      "4         Audi A4  35000  2018\n"
     ]
    }
   ],
   "source": [
    "from pandas import DataFrame\n",
    "\n",
    "Cars = {'Brand': ['Honda Civic','Ford Focus','Toyota Corolla','Toyota Corolla','Audi A4'],\n",
    "        'Price': [22000,27000,25000,29000,35000],\n",
    "         'Year': [2014,2015,2016,2017,2018]\n",
    "        }\n",
    "\n",
    "df = DataFrame(Cars, columns= ['Brand', 'Price','Year'])\n",
    "print (df)"
   ]
  },
  {
   "cell_type": "code",
   "execution_count": 3,
   "metadata": {},
   "outputs": [
    {
     "data": {
      "text/plain": [
       "count        5.000000\n",
       "mean     27600.000000\n",
       "std       4878.524367\n",
       "min      22000.000000\n",
       "25%      25000.000000\n",
       "50%      27000.000000\n",
       "75%      29000.000000\n",
       "max      35000.000000\n",
       "Name: Price, dtype: float64"
      ]
     },
     "execution_count": 3,
     "metadata": {},
     "output_type": "execute_result"
    }
   ],
   "source": [
    "df['Price'].describe()\n"
   ]
  },
  {
   "cell_type": "code",
   "execution_count": 4,
   "metadata": {},
   "outputs": [
    {
     "name": "stdout",
     "output_type": "stream",
     "text": [
      "count        5\n",
      "mean     27600\n",
      "std       4878\n",
      "min      22000\n",
      "25%      25000\n",
      "50%      27000\n",
      "75%      29000\n",
      "max      35000\n",
      "Name: Price, dtype: int32\n"
     ]
    }
   ],
   "source": [
    "stats_numeric = df['Price'].describe().astype (int)\n",
    "print (stats_numeric)"
   ]
  },
  {
   "cell_type": "code",
   "execution_count": 5,
   "metadata": {},
   "outputs": [
    {
     "name": "stdout",
     "output_type": "stream",
     "text": [
      "count                  5\n",
      "unique                 4\n",
      "top       Toyota Corolla\n",
      "freq                   2\n",
      "Name: Brand, dtype: object\n"
     ]
    }
   ],
   "source": [
    "stats_categorical = df['Brand'].describe()\n",
    "print (stats_categorical)"
   ]
  },
  {
   "cell_type": "code",
   "execution_count": 6,
   "metadata": {},
   "outputs": [
    {
     "name": "stdout",
     "output_type": "stream",
     "text": [
      "                 Brand         Price         Year\n",
      "count                5      5.000000     5.000000\n",
      "unique               4           NaN          NaN\n",
      "top     Toyota Corolla           NaN          NaN\n",
      "freq                 2           NaN          NaN\n",
      "mean               NaN  27600.000000  2016.000000\n",
      "std                NaN   4878.524367     1.581139\n",
      "min                NaN  22000.000000  2014.000000\n",
      "25%                NaN  25000.000000  2015.000000\n",
      "50%                NaN  27000.000000  2016.000000\n",
      "75%                NaN  29000.000000  2017.000000\n",
      "max                NaN  35000.000000  2018.000000\n"
     ]
    }
   ],
   "source": [
    "stats = df.describe(include='all')\n",
    "print (stats)"
   ]
  },
  {
   "cell_type": "code",
   "execution_count": 7,
   "metadata": {},
   "outputs": [
    {
     "name": "stdout",
     "output_type": "stream",
     "text": [
      "count: 5\n",
      "mean: 27600.0\n",
      "std: 4878.524367060188\n",
      "min: 22000\n",
      "25%: 25000.0\n",
      "50%: 27000.0\n",
      "75%: 29000.0\n",
      "max: 35000\n"
     ]
    }
   ],
   "source": [
    "count1 = df['Price'].count()\n",
    "print('count: ' + str(count1))\n",
    "\n",
    "mean1 = df['Price'].mean()\n",
    "print('mean: ' + str(mean1))\n",
    "\n",
    "std1 = df['Price'].std()\n",
    "print('std: ' + str(std1))\n",
    "\n",
    "min1 = df['Price'].min()\n",
    "print('min: ' + str(min1))\n",
    "\n",
    "quantile1 = df['Price'].quantile(q=0.25)\n",
    "print('25%: ' + str(quantile1))\n",
    "\n",
    "quantile2 = df['Price'].quantile(q=0.50)\n",
    "print('50%: ' + str(quantile2))\n",
    "\n",
    "quantile3 = df['Price'].quantile(q=0.75)\n",
    "print('75%: ' + str(quantile3))\n",
    "\n",
    "max1 = df['Price'].max()\n",
    "print('max: ' + str(max1))"
   ]
  },
  {
   "cell_type": "markdown",
   "metadata": {},
   "source": [
    "**Convert Strings to Floats in Pandas DataFrame**"
   ]
  },
  {
   "cell_type": "code",
   "execution_count": 8,
   "metadata": {},
   "outputs": [
    {
     "name": "stdout",
     "output_type": "stream",
     "text": [
      "  Product Price\n",
      "0     ABC   250\n",
      "1     XYZ   270\n",
      "Product    object\n",
      "Price      object\n",
      "dtype: object\n"
     ]
    }
   ],
   "source": [
    "import pandas as pd\n",
    "\n",
    "Data = {'Product': ['ABC','XYZ'],\n",
    "          'Price': ['250','270']}\n",
    "\n",
    "df = pd.DataFrame(Data)\n",
    "print (df)\n",
    "print (df.dtypes)"
   ]
  },
  {
   "cell_type": "code",
   "execution_count": 9,
   "metadata": {},
   "outputs": [
    {
     "name": "stdout",
     "output_type": "stream",
     "text": [
      "  Product  Price\n",
      "0     ABC  250.0\n",
      "1     XYZ  270.0\n",
      "Product     object\n",
      "Price      float64\n",
      "dtype: object\n"
     ]
    }
   ],
   "source": [
    "\n",
    "df['Price'] = df['Price'].astype(float)\n",
    "\n",
    "print (df)\n",
    "print (df.dtypes)"
   ]
  },
  {
   "cell_type": "code",
   "execution_count": 10,
   "metadata": {},
   "outputs": [
    {
     "name": "stdout",
     "output_type": "stream",
     "text": [
      "  Product  Price\n",
      "0     AAA  250.0\n",
      "1     BBB    NaN\n",
      "2     CCC  270.0\n",
      "3     DDD    NaN\n",
      "Product     object\n",
      "Price      float64\n",
      "dtype: object\n"
     ]
    }
   ],
   "source": [
    "import pandas as pd\n",
    "\n",
    "Data = {'Product': ['AAA','BBB','CCC','DDD'],\n",
    "          'Price': ['250','ABC260','270','280XYZ']}\n",
    "\n",
    "df = pd.DataFrame(Data)\n",
    "df['Price'] = pd.to_numeric(df['Price'], errors='coerce')\n",
    "\n",
    "print (df)\n",
    "print(df.dtypes)"
   ]
  },
  {
   "cell_type": "code",
   "execution_count": 11,
   "metadata": {},
   "outputs": [
    {
     "name": "stdout",
     "output_type": "stream",
     "text": [
      "  Product  Price\n",
      "0     AAA  250.0\n",
      "1     BBB    0.0\n",
      "2     CCC  270.0\n",
      "3     DDD    0.0\n",
      "Product     object\n",
      "Price      float64\n",
      "dtype: object\n"
     ]
    }
   ],
   "source": [
    "import pandas as pd\n",
    "import numpy as np\n",
    "\n",
    "Data = {'Product': ['AAA','BBB','CCC','DDD'],\n",
    "          'Price': ['250','ABC260','270','280XYZ']}\n",
    "df = pd.DataFrame(Data)\n",
    "df ['Price'] = pd.to_numeric(df['Price'], errors='coerce')\n",
    "df = df.replace(np.nan, 0, regex=True)\n",
    "\n",
    "print (df)\n",
    "print(df.dtypes)"
   ]
  },
  {
   "cell_type": "code",
   "execution_count": 12,
   "metadata": {},
   "outputs": [
    {
     "name": "stdout",
     "output_type": "stream",
     "text": [
      "0    55555\n",
      "1    77777\n",
      "2    99999\n",
      "Name: Identifier, dtype: object\n"
     ]
    }
   ],
   "source": [
    "from pandas import DataFrame\n",
    "\n",
    "Data = {'Identifier': ['55555-abc','77777-xyz','99999-mmm']}\n",
    "df = DataFrame(Data, columns= ['Identifier'])\n",
    "Left = df['Identifier'].str[:5]\n",
    "\n",
    "print (Left)"
   ]
  },
  {
   "cell_type": "code",
   "execution_count": 14,
   "metadata": {},
   "outputs": [
    {
     "data": {
      "text/plain": [
       "'6789'"
      ]
     },
     "execution_count": 14,
     "metadata": {},
     "output_type": "execute_result"
    }
   ],
   "source": [
    "a='123456789'\n",
    "a[5:]"
   ]
  },
  {
   "cell_type": "code",
   "execution_count": 15,
   "metadata": {},
   "outputs": [
    {
     "name": "stdout",
     "output_type": "stream",
     "text": [
      "0    55555\n",
      "1    77777\n",
      "2    99999\n",
      "Name: Identifier, dtype: object\n"
     ]
    }
   ],
   "source": [
    "from pandas import DataFrame\n",
    "\n",
    "Data = {'Identifier': ['ID-55555','ID-77777','ID-99999']}\n",
    "df = DataFrame(Data, columns= ['Identifier'])\n",
    "Right = df['Identifier'].str[-5:]\n",
    "\n",
    "print (Right)"
   ]
  },
  {
   "cell_type": "code",
   "execution_count": 16,
   "metadata": {},
   "outputs": [
    {
     "name": "stdout",
     "output_type": "stream",
     "text": [
      "0    55555\n",
      "1    77777\n",
      "2    99999\n",
      "Name: Identifier, dtype: object\n"
     ]
    }
   ],
   "source": [
    "from pandas import DataFrame\n",
    "\n",
    "Data = {'Identifier': ['ID-55555-End','ID-77777-End','ID-99999-End']}\n",
    "df = DataFrame(Data, columns= ['Identifier'])\n",
    "Mid = df['Identifier'].str[3:8]\n",
    "\n",
    "print (Mid)"
   ]
  },
  {
   "cell_type": "code",
   "execution_count": 31,
   "metadata": {},
   "outputs": [
    {
     "name": "stdout",
     "output_type": "stream",
     "text": [
      "0        111\n",
      "1    2222222\n",
      "2         33\n",
      "Name: Identifier, dtype: object\n"
     ]
    }
   ],
   "source": [
    "from pandas import DataFrame\n",
    "\n",
    "Data = {'Identifier': ['111-IDAA','2222222-IDB','33-IDCCC']}\n",
    "df = DataFrame(Data, columns= ['Identifier'])\n",
    "BeforeSymbol = df['Identifier'].str.split('-').str[0]\n",
    "\n",
    "print (BeforeSymbol)"
   ]
  },
  {
   "cell_type": "code",
   "execution_count": 32,
   "metadata": {},
   "outputs": [
    {
     "name": "stdout",
     "output_type": "stream",
     "text": [
      "0        111\n",
      "1    2222222\n",
      "2         33\n",
      "Name: Identifier, dtype: object\n"
     ]
    }
   ],
   "source": [
    "from pandas import DataFrame\n",
    "\n",
    "Data = {'Identifier': ['111 IDAA','2222222 IDB','33 IDCCC']}\n",
    "df = DataFrame(Data, columns= ['Identifier'])\n",
    "BeforeSpace = df['Identifier'].str.split(' ').str[0]\n",
    "\n",
    "print (BeforeSpace)"
   ]
  },
  {
   "cell_type": "code",
   "execution_count": 33,
   "metadata": {},
   "outputs": [
    {
     "name": "stdout",
     "output_type": "stream",
     "text": [
      "0        111\n",
      "1    2222222\n",
      "2         33\n",
      "Name: Identifier, dtype: object\n"
     ]
    }
   ],
   "source": [
    "from pandas import DataFrame\n",
    "\n",
    "Data = {'Identifier': ['IDAA-111','IDB-2222222','IDCCC-33']}\n",
    "df = DataFrame(Data, columns= ['Identifier'])\n",
    "AfterSymbol = df['Identifier'].str.split('-').str[1]\n",
    "\n",
    "print (AfterSymbol)"
   ]
  },
  {
   "cell_type": "code",
   "execution_count": 34,
   "metadata": {},
   "outputs": [
    {
     "name": "stdout",
     "output_type": "stream",
     "text": [
      "0        111\n",
      "1    2222222\n",
      "2         33\n",
      "Name: Identifier, dtype: object\n"
     ]
    }
   ],
   "source": [
    "from pandas import DataFrame\n",
    "\n",
    "Data = {'Identifier': ['IDAA-111-AA','IDB-2222222-B','IDCCC-33-CCC']}\n",
    "df = DataFrame(Data, columns= ['Identifier'])\n",
    "BetweenTwoSymbols = df['Identifier'].str.split('-').str[1]\n",
    "\n",
    "print (BetweenTwoSymbols)"
   ]
  },
  {
   "cell_type": "code",
   "execution_count": 35,
   "metadata": {},
   "outputs": [
    {
     "name": "stdout",
     "output_type": "stream",
     "text": [
      "0        111\n",
      "1    2222222\n",
      "2         33\n",
      "Name: Identifier, dtype: object\n"
     ]
    }
   ],
   "source": [
    "from pandas import DataFrame\n",
    "\n",
    "Data = {'Identifier': ['IDAA-111$AA','IDB-2222222$B','IDCCC-33$CCC']}\n",
    "df = DataFrame(Data, columns= ['Identifier'])\n",
    "betweenTwoDifferentSymbols = df['Identifier'].str.split('-').str[1]\n",
    "betweenTwoDifferentSymbols = betweenTwoDifferentSymbols.str.split('$').str[0]\n",
    "\n",
    "print (betweenTwoDifferentSymbols)"
   ]
  },
  {
   "cell_type": "markdown",
   "metadata": {},
   "source": [
    "**NAN -value replacement**"
   ]
  },
  {
   "cell_type": "code",
   "execution_count": 36,
   "metadata": {},
   "outputs": [
    {
     "name": "stdout",
     "output_type": "stream",
     "text": [
      "   values\n",
      "0     700\n",
      "1  ABC300\n",
      "2     500\n",
      "3  900XYZ\n"
     ]
    }
   ],
   "source": [
    "import pandas as pd\n",
    "\n",
    "df = pd.DataFrame({'values': ['700','ABC300','500','900XYZ']})\n",
    "print (df)"
   ]
  },
  {
   "cell_type": "code",
   "execution_count": null,
   "metadata": {},
   "outputs": [],
   "source": []
  }
 ],
 "metadata": {
  "kernelspec": {
   "display_name": "Python 3",
   "language": "python",
   "name": "python3"
  },
  "language_info": {
   "codemirror_mode": {
    "name": "ipython",
    "version": 3
   },
   "file_extension": ".py",
   "mimetype": "text/x-python",
   "name": "python",
   "nbconvert_exporter": "python",
   "pygments_lexer": "ipython3",
   "version": "3.7.3"
  }
 },
 "nbformat": 4,
 "nbformat_minor": 2
}
