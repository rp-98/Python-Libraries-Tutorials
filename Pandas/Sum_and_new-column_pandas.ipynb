{
 "cells": [
  {
   "cell_type": "code",
   "execution_count": 1,
   "metadata": {},
   "outputs": [
    {
     "name": "stdout",
     "output_type": "stream",
     "text": [
      "  Month  Bill Commission  Maria Commission  Jack Commission\n",
      "0  Jan              1500              3200             1700\n",
      "1  Feb              2200              4100             3100\n",
      "2  Mar              3500              2500             3300\n",
      "3  Apr              1800              3000             2700\n",
      "4  May              3000              4700             2400\n",
      "5  Jun              2800              3400             3100\n"
     ]
    }
   ],
   "source": [
    "from pandas import DataFrame\n",
    "\n",
    "Data = {'Month': ['Jan ','Feb ','Mar ','Apr ','May ','Jun '],\n",
    "        'Bill Commission': [1500,2200,3500,1800,3000,2800],\n",
    "        'Maria Commission': [3200,4100,2500,3000,4700,3400], \n",
    "        'Jack Commission': [1700,3100,3300,2700,2400,3100]\n",
    "        }\n",
    "\n",
    "df = DataFrame(Data,columns=['Month','Bill Commission','Maria Commission','Jack Commission'])\n",
    "print (df)"
   ]
  },
  {
   "cell_type": "code",
   "execution_count": 2,
   "metadata": {},
   "outputs": [
    {
     "data": {
      "text/plain": [
       "Month               Jan Feb Mar Apr May Jun \n",
       "Bill Commission                        14800\n",
       "Maria Commission                       20900\n",
       "Jack Commission                        16300\n",
       "dtype: object"
      ]
     },
     "execution_count": 2,
     "metadata": {},
     "output_type": "execute_result"
    }
   ],
   "source": [
    "df.sum(axis=0) "
   ]
  },
  {
   "cell_type": "code",
   "execution_count": 3,
   "metadata": {},
   "outputs": [
    {
     "data": {
      "text/plain": [
       "0     6400\n",
       "1     9400\n",
       "2     9300\n",
       "3     7500\n",
       "4    10100\n",
       "5     9300\n",
       "dtype: int64"
      ]
     },
     "execution_count": 3,
     "metadata": {},
     "output_type": "execute_result"
    }
   ],
   "source": [
    "df.sum(axis=1) "
   ]
  },
  {
   "cell_type": "code",
   "execution_count": 4,
   "metadata": {},
   "outputs": [
    {
     "data": {
      "text/plain": [
       "Month               6\n",
       "Bill Commission     6\n",
       "Maria Commission    6\n",
       "Jack Commission     6\n",
       "dtype: int64"
      ]
     },
     "execution_count": 4,
     "metadata": {},
     "output_type": "execute_result"
    }
   ],
   "source": [
    "df.count(axis=0)"
   ]
  },
  {
   "cell_type": "code",
   "execution_count": 5,
   "metadata": {},
   "outputs": [
    {
     "data": {
      "text/plain": [
       "0    4\n",
       "1    4\n",
       "2    4\n",
       "3    4\n",
       "4    4\n",
       "5    4\n",
       "dtype: int64"
      ]
     },
     "execution_count": 5,
     "metadata": {},
     "output_type": "execute_result"
    }
   ],
   "source": [
    "df.count(axis=1)"
   ]
  },
  {
   "cell_type": "code",
   "execution_count": 6,
   "metadata": {},
   "outputs": [
    {
     "name": "stdout",
     "output_type": "stream",
     "text": [
      "   Product\n",
      "0   Tablet\n",
      "1   iPhone\n",
      "2   Laptop\n",
      "3  Monitor\n"
     ]
    }
   ],
   "source": [
    "from pandas import DataFrame\n",
    "\n",
    "Products = {'Product': ['Tablet','iPhone','Laptop','Monitor']}\n",
    "df = DataFrame(Products, columns= ['Product'])\n",
    "\n",
    "print (df)"
   ]
  },
  {
   "cell_type": "code",
   "execution_count": 7,
   "metadata": {},
   "outputs": [
    {
     "name": "stdout",
     "output_type": "stream",
     "text": [
      "   Product  Price\n",
      "0   Tablet    250\n",
      "1   iPhone    800\n",
      "2   Laptop   1200\n",
      "3  Monitor    300\n"
     ]
    }
   ],
   "source": [
    "df = df.assign(Price = [250,800,1200,300])\n",
    "print (df) "
   ]
  },
  {
   "cell_type": "code",
   "execution_count": 8,
   "metadata": {},
   "outputs": [],
   "source": [
    "df=df.assign(Discount = ['15%','10%','5%','25%'])"
   ]
  },
  {
   "cell_type": "code",
   "execution_count": 9,
   "metadata": {},
   "outputs": [
    {
     "data": {
      "text/html": [
       "<div>\n",
       "<style scoped>\n",
       "    .dataframe tbody tr th:only-of-type {\n",
       "        vertical-align: middle;\n",
       "    }\n",
       "\n",
       "    .dataframe tbody tr th {\n",
       "        vertical-align: top;\n",
       "    }\n",
       "\n",
       "    .dataframe thead th {\n",
       "        text-align: right;\n",
       "    }\n",
       "</style>\n",
       "<table border=\"1\" class=\"dataframe\">\n",
       "  <thead>\n",
       "    <tr style=\"text-align: right;\">\n",
       "      <th></th>\n",
       "      <th>Product</th>\n",
       "      <th>Price</th>\n",
       "      <th>Discount</th>\n",
       "    </tr>\n",
       "  </thead>\n",
       "  <tbody>\n",
       "    <tr>\n",
       "      <td>0</td>\n",
       "      <td>Tablet</td>\n",
       "      <td>250</td>\n",
       "      <td>15%</td>\n",
       "    </tr>\n",
       "    <tr>\n",
       "      <td>1</td>\n",
       "      <td>iPhone</td>\n",
       "      <td>800</td>\n",
       "      <td>10%</td>\n",
       "    </tr>\n",
       "    <tr>\n",
       "      <td>2</td>\n",
       "      <td>Laptop</td>\n",
       "      <td>1200</td>\n",
       "      <td>5%</td>\n",
       "    </tr>\n",
       "    <tr>\n",
       "      <td>3</td>\n",
       "      <td>Monitor</td>\n",
       "      <td>300</td>\n",
       "      <td>25%</td>\n",
       "    </tr>\n",
       "  </tbody>\n",
       "</table>\n",
       "</div>"
      ],
      "text/plain": [
       "   Product  Price Discount\n",
       "0   Tablet    250      15%\n",
       "1   iPhone    800      10%\n",
       "2   Laptop   1200       5%\n",
       "3  Monitor    300      25%"
      ]
     },
     "execution_count": 9,
     "metadata": {},
     "output_type": "execute_result"
    }
   ],
   "source": [
    "df"
   ]
  },
  {
   "cell_type": "markdown",
   "metadata": {},
   "source": [
    "**How to Compare Values in two Pandas DataFrames**"
   ]
  },
  {
   "cell_type": "code",
   "execution_count": 17,
   "metadata": {},
   "outputs": [
    {
     "name": "stdout",
     "output_type": "stream",
     "text": [
      "   Product1  Price1\n",
      "0  Computer    1200\n",
      "1     Phone     800\n",
      "2   Printer     200\n",
      "3      Desk     350\n",
      "   \n",
      "   \n",
      "   Product2  Price2\n",
      "0  Computer     900\n",
      "1     Phone     800\n",
      "2   Printer     300\n",
      "3      Desk     350\n"
     ]
    }
   ],
   "source": [
    "from pandas import DataFrame\n",
    "\n",
    "firstProductSet = {'Product1': ['Computer','Phone','Printer','Desk'],\n",
    "                   'Price1': [1200,800,200,350]\n",
    "                   }\n",
    "df1 = DataFrame(firstProductSet,columns= ['Product1', 'Price1'])\n",
    "print(df1)\n",
    "print('   ')\n",
    "print('   ')\n",
    "secondProductSet = {'Product2': ['Computer','Phone','Printer','Desk'],\n",
    "                    'Price2': [900,800,300,350]\n",
    "                    }\n",
    "df2 = DataFrame(secondProductSet,columns= ['Product2', 'Price2'])\n",
    "print (df2)"
   ]
  },
  {
   "cell_type": "code",
   "execution_count": 18,
   "metadata": {},
   "outputs": [],
   "source": [
    "\n",
    "df1['Price2'] = df2['Price2']"
   ]
  },
  {
   "cell_type": "code",
   "execution_count": 21,
   "metadata": {},
   "outputs": [],
   "source": [
    "df1\n",
    "import numpy as np"
   ]
  },
  {
   "cell_type": "code",
   "execution_count": 22,
   "metadata": {},
   "outputs": [
    {
     "name": "stdout",
     "output_type": "stream",
     "text": [
      "   Product1  Price1  Price2 pricesMatch?\n",
      "0  Computer    1200     900        False\n",
      "1     Phone     800     800         True\n",
      "2   Printer     200     300        False\n",
      "3      Desk     350     350         True\n"
     ]
    }
   ],
   "source": [
    "df1['pricesMatch?'] = np.where(df1.Price1 == df2.Price2, 'True', 'False')  #create new column in df1 to check if prices match\n",
    "print (df1)"
   ]
  },
  {
   "cell_type": "code",
   "execution_count": 23,
   "metadata": {},
   "outputs": [
    {
     "name": "stdout",
     "output_type": "stream",
     "text": [
      "   Product1  Price1  Price2 pricesMatch? priceDiff?\n",
      "0  Computer    1200     900        False        300\n",
      "1     Phone     800     800         True          0\n",
      "2   Printer     200     300        False       -100\n",
      "3      Desk     350     350         True          0\n"
     ]
    }
   ],
   "source": [
    "df1['priceDiff?'] = np.where(df1.Price1 == df2.Price2, '0', df1.Price1 - df2.Price2) #create new column in df1 for price diff \n",
    "print (df1)"
   ]
  },
  {
   "cell_type": "code",
   "execution_count": null,
   "metadata": {},
   "outputs": [],
   "source": []
  }
 ],
 "metadata": {
  "kernelspec": {
   "display_name": "Python 3",
   "language": "python",
   "name": "python3"
  },
  "language_info": {
   "codemirror_mode": {
    "name": "ipython",
    "version": 3
   },
   "file_extension": ".py",
   "mimetype": "text/x-python",
   "name": "python",
   "nbconvert_exporter": "python",
   "pygments_lexer": "ipython3",
   "version": "3.7.3"
  }
 },
 "nbformat": 4,
 "nbformat_minor": 2
}
