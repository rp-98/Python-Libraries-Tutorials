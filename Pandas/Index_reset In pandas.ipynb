{
 "cells": [
  {
   "cell_type": "code",
   "execution_count": 9,
   "metadata": {},
   "outputs": [
    {
     "name": "stdout",
     "output_type": "stream",
     "text": [
      "    Product  Price\n",
      "0    Tablet    250\n",
      "1    iPhone    800\n",
      "2    Laptop   1200\n",
      "3   Monitor    300\n",
      "4  Computer   1500\n"
     ]
    }
   ],
   "source": [
    "import pandas as pd\n",
    "\n",
    "myProducts = {'Product': ['Tablet', 'iPhone', 'Laptop', 'Monitor', 'Computer'], \n",
    "              'Price': [250, 800, 1200, 300, 1500], \n",
    "              }\n",
    "\n",
    "df = pd.DataFrame(myProducts, columns= ['Product', 'Price'])\n",
    "\n",
    "print(df)"
   ]
  },
  {
   "cell_type": "code",
   "execution_count": 10,
   "metadata": {},
   "outputs": [
    {
     "name": "stdout",
     "output_type": "stream",
     "text": [
      "    Product  Price\n",
      "1    iPhone    800\n",
      "2    Laptop   1200\n",
      "4  Computer   1500\n"
     ]
    }
   ],
   "source": [
    "df = df.drop([0, 3])\n",
    "\n",
    "print(df)"
   ]
  },
  {
   "cell_type": "code",
   "execution_count": 11,
   "metadata": {},
   "outputs": [
    {
     "name": "stdout",
     "output_type": "stream",
     "text": [
      "    Product  Price\n",
      "0    iPhone    800\n",
      "1    Laptop   1200\n",
      "2  Computer   1500\n"
     ]
    }
   ],
   "source": [
    "df = df.reset_index(drop=True)\n",
    "\n",
    "print(df)"
   ]
  },
  {
   "cell_type": "markdown",
   "metadata": {},
   "source": [
    "**How to Rename Columns in Pandas DataFrame**"
   ]
  },
  {
   "cell_type": "code",
   "execution_count": 12,
   "metadata": {},
   "outputs": [
    {
     "name": "stdout",
     "output_type": "stream",
     "text": [
      "  Vegetables\n",
      "0      Apple\n",
      "1     Orange\n",
      "2     Banana\n",
      "3    Coconut\n",
      "4      Mango\n"
     ]
    }
   ],
   "source": [
    "import pandas as pd\n",
    "\n",
    "data = {'Vegetables': ['Apple', 'Orange', 'Banana', 'Coconut', 'Mango']}\n",
    "df = pd.DataFrame(data, columns = ['Vegetables'])\n",
    "\n",
    "print (df)"
   ]
  },
  {
   "cell_type": "code",
   "execution_count": 13,
   "metadata": {},
   "outputs": [
    {
     "name": "stdout",
     "output_type": "stream",
     "text": [
      "    Fruits\n",
      "0    Apple\n",
      "1   Orange\n",
      "2   Banana\n",
      "3  Coconut\n",
      "4    Mango\n"
     ]
    }
   ],
   "source": [
    "df = df.rename(columns = {'Vegetables':'Fruits'})\n",
    "\n",
    "print (df)"
   ]
  },
  {
   "cell_type": "code",
   "execution_count": 14,
   "metadata": {},
   "outputs": [
    {
     "name": "stdout",
     "output_type": "stream",
     "text": [
      "     Colors Shapes\n",
      "0  Triangle    Red\n",
      "1    Square   Blue\n",
      "2    Circle  Green\n"
     ]
    }
   ],
   "source": [
    "import pandas as pd\n",
    "\n",
    "data = {'Colors': ['Triangle', 'Square', 'Circle'],\n",
    "        'Shapes': ['Red', 'Blue', 'Green']\n",
    "        }\n",
    "\n",
    "df = pd.DataFrame(data,columns = ['Colors','Shapes'])\n",
    "\n",
    "print (df)"
   ]
  },
  {
   "cell_type": "code",
   "execution_count": 15,
   "metadata": {},
   "outputs": [
    {
     "name": "stdout",
     "output_type": "stream",
     "text": [
      "     Shapes Colors\n",
      "0  Triangle    Red\n",
      "1    Square   Blue\n",
      "2    Circle  Green\n"
     ]
    }
   ],
   "source": [
    "df = df.rename(columns = {'Colors':'Shapes','Shapes':'Colors'})\n",
    "\n",
    "print (df)"
   ]
  },
  {
   "cell_type": "markdown",
   "metadata": {},
   "source": [
    "**How to Drop Rows with NaN Values in Pandas DataFrame**"
   ]
  },
  {
   "cell_type": "markdown",
   "metadata": {},
   "source": [
    "df.dropna()"
   ]
  },
  {
   "cell_type": "code",
   "execution_count": 16,
   "metadata": {},
   "outputs": [
    {
     "name": "stdout",
     "output_type": "stream",
     "text": [
      "  values_1 values_2\n",
      "0      700      DDD\n",
      "1      ABC      150\n",
      "2      500      350\n",
      "3      XYZ      400\n",
      "4     1200     5000\n"
     ]
    }
   ],
   "source": [
    "import pandas as pd\n",
    "\n",
    "df = pd.DataFrame({'values_1': ['700','ABC','500','XYZ','1200'],\n",
    "                   'values_2': ['DDD','150','350','400','5000'] \n",
    "                   })\n",
    "\n",
    "print (df)"
   ]
  },
  {
   "cell_type": "code",
   "execution_count": 17,
   "metadata": {},
   "outputs": [
    {
     "name": "stdout",
     "output_type": "stream",
     "text": [
      "   values_1  values_2\n",
      "0     700.0       NaN\n",
      "1       NaN     150.0\n",
      "2     500.0     350.0\n",
      "3       NaN     400.0\n",
      "4    1200.0    5000.0\n"
     ]
    }
   ],
   "source": [
    "df = df.apply (pd.to_numeric, errors='coerce')\n",
    "\n",
    "print (df)"
   ]
  },
  {
   "cell_type": "code",
   "execution_count": 18,
   "metadata": {},
   "outputs": [
    {
     "name": "stdout",
     "output_type": "stream",
     "text": [
      "   values_1  values_2\n",
      "2     500.0     350.0\n",
      "4    1200.0    5000.0\n"
     ]
    }
   ],
   "source": [
    "df = df.dropna()\n",
    "\n",
    "print (df)"
   ]
  },
  {
   "cell_type": "code",
   "execution_count": null,
   "metadata": {},
   "outputs": [],
   "source": []
  }
 ],
 "metadata": {
  "kernelspec": {
   "display_name": "Python 3",
   "language": "python",
   "name": "python3"
  },
  "language_info": {
   "codemirror_mode": {
    "name": "ipython",
    "version": 3
   },
   "file_extension": ".py",
   "mimetype": "text/x-python",
   "name": "python",
   "nbconvert_exporter": "python",
   "pygments_lexer": "ipython3",
   "version": "3.7.3"
  }
 },
 "nbformat": 4,
 "nbformat_minor": 2
}
