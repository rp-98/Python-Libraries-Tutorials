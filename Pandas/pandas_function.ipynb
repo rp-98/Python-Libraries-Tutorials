{
 "cells": [
  {
   "cell_type": "markdown",
   "metadata": {},
   "source": [
    "**Dataframe to list**\n",
    "#df.values.tolist()"
   ]
  },
  {
   "cell_type": "code",
   "execution_count": 12,
   "metadata": {},
   "outputs": [
    {
     "name": "stdout",
     "output_type": "stream",
     "text": [
      "[['Tablet', 250, 2], ['iPhone', 800, 4], ['Laptop', 1200, 6], ['Monitor', 300, 3]]\n"
     ]
    }
   ],
   "source": [
    "from pandas import DataFrame\n",
    "\n",
    "Products = {'Product': ['Tablet','iPhone','Laptop','Monitor'],'Price': [250,800,1200,300],'Quantity':[2,4,6,3]}\n",
    "            \n",
    "df = DataFrame(Products, columns= ['Product', 'Price','Quantity'])\n",
    "\n",
    "Products_list = df.values.tolist()\n",
    "print (Products_list)"
   ]
  },
  {
   "cell_type": "code",
   "execution_count": 13,
   "metadata": {},
   "outputs": [
    {
     "name": "stdout",
     "output_type": "stream",
     "text": [
      "[['Product', 'Price', 'Quantity'], ['Tablet', 250, 2], ['iPhone', 800, 4], ['Laptop', 1200, 6], ['Monitor', 300, 3]]\n"
     ]
    }
   ],
   "source": [
    "Products_list = [df.columns.values.tolist()] + df.values.tolist()\n",
    "print (Products_list)"
   ]
  },
  {
   "cell_type": "code",
   "execution_count": 14,
   "metadata": {},
   "outputs": [
    {
     "data": {
      "text/plain": [
       "array(['Product', 'Price', 'Quantity'], dtype=object)"
      ]
     },
     "execution_count": 14,
     "metadata": {},
     "output_type": "execute_result"
    }
   ],
   "source": [
    "df.columns.values"
   ]
  },
  {
   "cell_type": "code",
   "execution_count": 17,
   "metadata": {},
   "outputs": [
    {
     "name": "stdout",
     "output_type": "stream",
     "text": [
      "Product |Price          \n",
      "Tablet  |250            \n",
      "iPhone  |800            \n",
      "Laptop  |1200           \n",
      "Monitor |300            \n"
     ]
    }
   ],
   "source": [
    "from pandas import DataFrame\n",
    "\n",
    "Products = {'Product': ['Tablet','iPhone','Laptop','Monitor'],\n",
    "            'Price': [250,800,1200,300]\n",
    "            }\n",
    "\n",
    "df = DataFrame(Products, columns= ['Product', 'Price'])\n",
    "\n",
    "Products_list = [df.columns.values.tolist()] + df.values.tolist()\n",
    "f = '{:<8}|{:<15}' # formatting\n",
    "\n",
    "for i in Products_list:\n",
    "    print(f.format(*i))"
   ]
  },
  {
   "cell_type": "code",
   "execution_count": 26,
   "metadata": {},
   "outputs": [
    {
     "name": "stdout",
     "output_type": "stream",
     "text": [
      "['Tablet', 'iPhone', 'Laptop', 'Monitor']\n"
     ]
    }
   ],
   "source": [
    "from pandas import DataFrame\n",
    "\n",
    "Products = {'Product': ['Tablet','iPhone','Laptop','Monitor'],\n",
    "            'Price': [250,800,1200,300]\n",
    "            }\n",
    "\n",
    "df = DataFrame(Products, columns= ['Product', 'Price'])\n",
    "\n",
    "Product = df['Product'].values.tolist()\n",
    "print (Product)\n"
   ]
  },
  {
   "cell_type": "code",
   "execution_count": 27,
   "metadata": {},
   "outputs": [],
   "source": [
    "Product.append('Printer')"
   ]
  },
  {
   "cell_type": "code",
   "execution_count": 28,
   "metadata": {},
   "outputs": [
    {
     "data": {
      "text/plain": [
       "['Tablet', 'iPhone', 'Laptop', 'Monitor', 'Printer']"
      ]
     },
     "execution_count": 28,
     "metadata": {},
     "output_type": "execute_result"
    }
   ],
   "source": [
    "Product"
   ]
  },
  {
   "cell_type": "markdown",
   "metadata": {},
   "source": [
    "**Sorting of dataframe**"
   ]
  },
  {
   "cell_type": "markdown",
   "metadata": {},
   "source": [
    "**Let's do it **"
   ]
  },
  {
   "cell_type": "code",
   "execution_count": 32,
   "metadata": {},
   "outputs": [
    {
     "name": "stdout",
     "output_type": "stream",
     "text": [
      "     Brand  Price  Year\n",
      "0   Honda   22000  2015\n",
      "1  Toyota   25000  2013\n",
      "2    Ford   27000  2018\n",
      "3  Audi A4  35000  2018\n",
      "4      BMW  40000  2016\n"
     ]
    }
   ],
   "source": [
    "from pandas import DataFrame\n",
    " \n",
    "Cars = {'Brand': ['Honda ','Toyota ','Ford ','Audi A4','BMW'],\n",
    "        'Price': [22000,25000,27000,35000,40000],\n",
    "        'Year': [2015,2013,2018,2018,2016]\n",
    "        }\n",
    " \n",
    "df = DataFrame(Cars, columns= ['Brand', 'Price','Year'])\n",
    "\n",
    "print (df)"
   ]
  },
  {
   "cell_type": "markdown",
   "metadata": {},
   "source": [
    "**Sort Pandas DataFrame in an ascending order**\n",
    "##Note - Ascending order is defult"
   ]
  },
  {
   "cell_type": "code",
   "execution_count": 34,
   "metadata": {},
   "outputs": [
    {
     "name": "stdout",
     "output_type": "stream",
     "text": [
      "     Brand  Price  Year\n",
      "3  Audi A4  35000  2018\n",
      "4      BMW  40000  2016\n",
      "2    Ford   27000  2018\n",
      "0   Honda   22000  2015\n",
      "1  Toyota   25000  2013\n"
     ]
    }
   ],
   "source": [
    "df.sort_values(by=['Brand'], inplace=True)\n",
    "print (df)"
   ]
  },
  {
   "cell_type": "code",
   "execution_count": 35,
   "metadata": {},
   "outputs": [
    {
     "name": "stdout",
     "output_type": "stream",
     "text": [
      "     Brand  Price  Year\n",
      "1  Toyota   25000  2013\n",
      "0   Honda   22000  2015\n",
      "4      BMW  40000  2016\n",
      "3  Audi A4  35000  2018\n",
      "2    Ford   27000  2018\n"
     ]
    }
   ],
   "source": [
    "df.sort_values(by=['Year'], inplace=True)\n",
    "print (df)"
   ]
  },
  {
   "cell_type": "code",
   "execution_count": 37,
   "metadata": {},
   "outputs": [
    {
     "name": "stdout",
     "output_type": "stream",
     "text": [
      "            Brand  Price  Year\n",
      "2      Ford Focus  27000  2018\n",
      "3         Audi A4  35000  2018\n",
      "0     Honda Civic  22000  2015\n",
      "1  Toyota Corolla  25000  2013\n"
     ]
    }
   ],
   "source": [
    "from pandas import DataFrame\n",
    " \n",
    "Cars = {'Brand': ['Honda Civic','Toyota Corolla','Ford Focus','Audi A4'],\n",
    "        'Price': [22000,25000,27000,35000],\n",
    "        'Year': [2015,2013,2018,2018]\n",
    "        }\n",
    " \n",
    "df = DataFrame(Cars, columns= ['Brand', 'Price','Year'])\n",
    "\n",
    "# sort Brand - descending order\n",
    "df.sort_values(by=['Year'], inplace=True, ascending=False)\n",
    "\n",
    "print (df)"
   ]
  },
  {
   "cell_type": "markdown",
   "metadata": {},
   "source": [
    "**Sort by multiple columns – case#1**"
   ]
  },
  {
   "cell_type": "code",
   "execution_count": 39,
   "metadata": {},
   "outputs": [
    {
     "name": "stdout",
     "output_type": "stream",
     "text": [
      "            Brand  Price  Year\n",
      "1  Toyota Corolla  25000  2013\n",
      "0     Honda Civic  22000  2015\n",
      "2      Ford Focus  27000  2018\n",
      "3         Audi A4  35000  2018\n"
     ]
    }
   ],
   "source": [
    "# sort by multiple columns\n",
    "from pandas import DataFrame\n",
    " \n",
    "Cars = {'Brand': ['Honda Civic','Toyota Corolla','Ford Focus','Audi A4'],\n",
    "        'Price': [22000,25000,27000,35000],\n",
    "        'Year': [2015,2013,2018,2018]\n",
    "        }\n",
    " \n",
    "df = DataFrame(Cars, columns= ['Brand', 'Price','Year'])\n",
    "\n",
    "# sort by multiple columns: Year and Price\n",
    "df.sort_values(by=['Year','Price'], inplace=True)\n",
    "\n",
    "print (df)"
   ]
  },
  {
   "cell_type": "code",
   "execution_count": null,
   "metadata": {},
   "outputs": [],
   "source": []
  }
 ],
 "metadata": {
  "kernelspec": {
   "display_name": "Python 3",
   "language": "python",
   "name": "python3"
  },
  "language_info": {
   "codemirror_mode": {
    "name": "ipython",
    "version": 3
   },
   "file_extension": ".py",
   "mimetype": "text/x-python",
   "name": "python",
   "nbconvert_exporter": "python",
   "pygments_lexer": "ipython3",
   "version": "3.7.3"
  }
 },
 "nbformat": 4,
 "nbformat_minor": 2
}
