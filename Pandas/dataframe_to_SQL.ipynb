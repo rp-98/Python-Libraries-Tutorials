{
 "cells": [
  {
   "cell_type": "markdown",
   "metadata": {},
   "source": [
    "**I’ll show you how to get from Pandas DataFrame to SQL.**\n",
    "\n"
   ]
  },
  {
   "cell_type": "code",
   "execution_count": 1,
   "metadata": {},
   "outputs": [
    {
     "name": "stdout",
     "output_type": "stream",
     "text": [
      "            Brand  Price\n",
      "0     Honda Civic  22000\n",
      "1  Toyota Corolla  25000\n",
      "2      Ford Focus  27000\n",
      "3         Audi A4  35000\n"
     ]
    }
   ],
   "source": [
    "from pandas import DataFrame\n",
    "\n",
    "Cars = {'Brand': ['Honda Civic','Toyota Corolla','Ford Focus','Audi A4'],\n",
    "        'Price': [22000,25000,27000,35000]\n",
    "        }\n",
    "\n",
    "df = DataFrame(Cars, columns= ['Brand', 'Price'])\n",
    "print (df)"
   ]
  },
  {
   "cell_type": "code",
   "execution_count": 2,
   "metadata": {},
   "outputs": [],
   "source": [
    "import sqlite3"
   ]
  },
  {
   "cell_type": "code",
   "execution_count": 3,
   "metadata": {},
   "outputs": [],
   "source": [
    "conn = sqlite3.connect('TestDB1.db')\n",
    "c = conn.cursor()"
   ]
  },
  {
   "cell_type": "code",
   "execution_count": 4,
   "metadata": {},
   "outputs": [],
   "source": [
    "c.execute('CREATE TABLE CARS (Brand text, Price number)')\n",
    "conn.commit()"
   ]
  },
  {
   "cell_type": "code",
   "execution_count": 5,
   "metadata": {},
   "outputs": [],
   "source": [
    "df.to_sql('CARS', conn, if_exists='replace', index = False)"
   ]
  },
  {
   "cell_type": "code",
   "execution_count": 6,
   "metadata": {},
   "outputs": [
    {
     "name": "stdout",
     "output_type": "stream",
     "text": [
      "('Honda Civic', 22000)\n",
      "('Toyota Corolla', 25000)\n",
      "('Ford Focus', 27000)\n",
      "('Audi A4', 35000)\n"
     ]
    }
   ],
   "source": [
    "c.execute('''  \n",
    "SELECT * FROM CARS\n",
    "          ''')\n",
    "\n",
    "for row in c.fetchall():\n",
    "    print (row)"
   ]
  },
  {
   "cell_type": "code",
   "execution_count": 7,
   "metadata": {},
   "outputs": [
    {
     "name": "stdout",
     "output_type": "stream",
     "text": [
      "     Brand  Price\n",
      "0  Audi A4  35000\n"
     ]
    }
   ],
   "source": [
    "import sqlite3\n",
    "from pandas import DataFrame\n",
    "\n",
    "conn = sqlite3.connect('TestDB2.db')\n",
    "c = conn.cursor()\n",
    "\n",
    "c.execute('CREATE TABLE CARS (Brand text, Price number)')\n",
    "conn.commit()\n",
    "\n",
    "Cars = {'Brand': ['Honda Civic','Toyota Corolla','Ford Focus','Audi A4'],\n",
    "        'Price': [22000,25000,27000,35000]\n",
    "        }\n",
    "\n",
    "df = DataFrame(Cars, columns= ['Brand', 'Price'])\n",
    "df.to_sql('CARS', conn, if_exists='replace', index = False)\n",
    " \n",
    "c.execute('''  \n",
    "SELECT Brand, max(price) FROM CARS\n",
    "          ''')\n",
    "\n",
    "df = DataFrame(c.fetchall(), columns=['Brand','Price'])    \n",
    "print (df)\n",
    "\n",
    "#c.execute('DROP TABLE CARS')"
   ]
  },
  {
   "cell_type": "code",
   "execution_count": null,
   "metadata": {},
   "outputs": [],
   "source": []
  }
 ],
 "metadata": {
  "kernelspec": {
   "display_name": "Python 3",
   "language": "python",
   "name": "python3"
  },
  "language_info": {
   "codemirror_mode": {
    "name": "ipython",
    "version": 3
   },
   "file_extension": ".py",
   "mimetype": "text/x-python",
   "name": "python",
   "nbconvert_exporter": "python",
   "pygments_lexer": "ipython3",
   "version": "3.7.3"
  }
 },
 "nbformat": 4,
 "nbformat_minor": 2
}
