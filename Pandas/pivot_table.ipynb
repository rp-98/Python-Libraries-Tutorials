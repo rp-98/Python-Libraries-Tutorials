{
 "cells": [
  {
   "cell_type": "code",
   "execution_count": 2,
   "metadata": {},
   "outputs": [
    {
     "name": "stdout",
     "output_type": "stream",
     "text": [
      "   Name of Employee  Sales  Quarter Country\n",
      "0               Jon   1000        1      US\n",
      "1              Mark    300        1   Japan\n",
      "2              Tina    400        1  Brazil\n",
      "3             Maria    500        1      UK\n",
      "4              Bill    800        1      US\n",
      "5               Jon   1000        2  Brazil\n",
      "6              Mark    500        2   Japan\n",
      "7              Tina    700        2  Brazil\n",
      "8             Maria     50        2      US\n",
      "9              Bill     60        2      US\n",
      "10              Jon   1000        3      US\n",
      "11             Mark    900        3   Japan\n",
      "12             Tina    750        3  Brazil\n",
      "13            Maria    200        3      UK\n",
      "14             Bill    300        3  Brazil\n",
      "15              Jon   1000        4   Japan\n",
      "16             Mark    900        4   Japan\n",
      "17             Tina    250        4  Brazil\n",
      "18            Maria    750        4      UK\n",
      "19             Bill     50        4      US\n"
     ]
    }
   ],
   "source": [
    "from pandas import DataFrame\n",
    "\n",
    "Employees = {'Name of Employee': ['Jon','Mark','Tina','Maria','Bill','Jon','Mark','Tina','Maria','Bill','Jon','Mark','Tina','Maria','Bill','Jon','Mark','Tina','Maria','Bill'],\n",
    "             'Sales': [1000,300,400,500,800,1000,500,700,50,60,1000,900,750,200,300,1000,900,250,750,50],\n",
    "             'Quarter': [1,1,1,1,1,2,2,2,2,2,3,3,3,3,3,4,4,4,4,4],\n",
    "             'Country': ['US','Japan','Brazil','UK','US','Brazil','Japan','Brazil','US','US','US','Japan','Brazil','UK','Brazil','Japan','Japan','Brazil','UK','US']\n",
    "            }\n",
    "\n",
    "df = DataFrame(Employees, columns= ['Name of Employee', 'Sales','Quarter','Country'])\n",
    "\n",
    "print (df)"
   ]
  },
  {
   "cell_type": "code",
   "execution_count": 3,
   "metadata": {},
   "outputs": [],
   "source": [
    "pivot = df.pivot_table(index=['Name of Employee'], values=['Sales'], aggfunc='sum')"
   ]
  },
  {
   "cell_type": "code",
   "execution_count": 4,
   "metadata": {},
   "outputs": [
    {
     "data": {
      "text/html": [
       "<div>\n",
       "<style scoped>\n",
       "    .dataframe tbody tr th:only-of-type {\n",
       "        vertical-align: middle;\n",
       "    }\n",
       "\n",
       "    .dataframe tbody tr th {\n",
       "        vertical-align: top;\n",
       "    }\n",
       "\n",
       "    .dataframe thead th {\n",
       "        text-align: right;\n",
       "    }\n",
       "</style>\n",
       "<table border=\"1\" class=\"dataframe\">\n",
       "  <thead>\n",
       "    <tr style=\"text-align: right;\">\n",
       "      <th></th>\n",
       "      <th>Sales</th>\n",
       "    </tr>\n",
       "    <tr>\n",
       "      <th>Name of Employee</th>\n",
       "      <th></th>\n",
       "    </tr>\n",
       "  </thead>\n",
       "  <tbody>\n",
       "    <tr>\n",
       "      <td>Bill</td>\n",
       "      <td>1210</td>\n",
       "    </tr>\n",
       "    <tr>\n",
       "      <td>Jon</td>\n",
       "      <td>4000</td>\n",
       "    </tr>\n",
       "    <tr>\n",
       "      <td>Maria</td>\n",
       "      <td>1500</td>\n",
       "    </tr>\n",
       "    <tr>\n",
       "      <td>Mark</td>\n",
       "      <td>2600</td>\n",
       "    </tr>\n",
       "    <tr>\n",
       "      <td>Tina</td>\n",
       "      <td>2100</td>\n",
       "    </tr>\n",
       "  </tbody>\n",
       "</table>\n",
       "</div>"
      ],
      "text/plain": [
       "                  Sales\n",
       "Name of Employee       \n",
       "Bill               1210\n",
       "Jon                4000\n",
       "Maria              1500\n",
       "Mark               2600\n",
       "Tina               2100"
      ]
     },
     "execution_count": 4,
     "metadata": {},
     "output_type": "execute_result"
    }
   ],
   "source": [
    "pivot"
   ]
  },
  {
   "cell_type": "code",
   "execution_count": 5,
   "metadata": {},
   "outputs": [
    {
     "name": "stdout",
     "output_type": "stream",
     "text": [
      "         Sales\n",
      "Country       \n",
      "Brazil    3400\n",
      "Japan     3600\n",
      "UK        1450\n",
      "US        2960\n"
     ]
    }
   ],
   "source": [
    "pivot = df.pivot_table(index=['Country'], values=['Sales'], aggfunc='sum')\n",
    "\n",
    "print (pivot)"
   ]
  },
  {
   "cell_type": "code",
   "execution_count": 7,
   "metadata": {},
   "outputs": [
    {
     "name": "stdout",
     "output_type": "stream",
     "text": [
      "AxesSubplot(0.125,0.125;0.775x0.755)\n"
     ]
    },
    {
     "data": {
      "image/png": "[encoded data removed]",
      "text/plain": [
       "<Figure size 432x288 with 1 Axes>"
      ]
     },
     "metadata": {
      "needs_background": "light"
     },
     "output_type": "display_data"
    }
   ],
   "source": [
    "pivot = df.pivot_table(index=['Country'], values=['Sales'], aggfunc='sum').plot()\n",
    "\n",
    "print (pivot)"
   ]
  },
  {
   "cell_type": "code",
   "execution_count": 8,
   "metadata": {},
   "outputs": [
    {
     "name": "stdout",
     "output_type": "stream",
     "text": [
      "                          Sales\n",
      "Name of Employee Country       \n",
      "Bill             Brazil     300\n",
      "                 US         910\n",
      "Jon              Brazil    1000\n",
      "                 Japan     1000\n",
      "                 US        2000\n",
      "Maria            UK        1450\n",
      "                 US          50\n",
      "Mark             Japan     2600\n",
      "Tina             Brazil    2100\n"
     ]
    }
   ],
   "source": [
    "pivot = df.pivot_table(index=['Name of Employee','Country'], values=['Sales'], aggfunc='sum')\n",
    "\n",
    "print (pivot)"
   ]
  },
  {
   "cell_type": "code",
   "execution_count": 9,
   "metadata": {},
   "outputs": [
    {
     "name": "stdout",
     "output_type": "stream",
     "text": [
      "         Sales\n",
      "Country       \n",
      "Brazil    1000\n",
      "Japan     1000\n",
      "UK         750\n",
      "US        1000\n"
     ]
    }
   ],
   "source": [
    "pivot = df.pivot_table(index=['Country'], values=['Sales'], aggfunc='max')\n",
    "\n",
    "print (pivot)"
   ]
  },
  {
   "cell_type": "markdown",
   "metadata": {},
   "source": [
    "**aggfunc={'median','mean','min'}**"
   ]
  },
  {
   "cell_type": "code",
   "execution_count": 10,
   "metadata": {},
   "outputs": [
    {
     "name": "stdout",
     "output_type": "stream",
     "text": [
      "              Sales              \n",
      "               mean median    min\n",
      "Country                          \n",
      "Brazil   566.666667  550.0  250.0\n",
      "Japan    720.000000  900.0  300.0\n",
      "UK       483.333333  500.0  200.0\n",
      "US       493.333333  430.0   50.0\n"
     ]
    }
   ],
   "source": [
    "pivot = df.pivot_table(index=['Country'], values=['Sales'], aggfunc={'median','mean','min'})\n",
    "\n",
    "print (pivot)"
   ]
  },
  {
   "cell_type": "code",
   "execution_count": 11,
   "metadata": {},
   "outputs": [
    {
     "data": {
      "image/png": "[encoded data removed]",
      "text/plain": [
       "<Figure size 432x288 with 1 Axes>"
      ]
     },
     "metadata": {
      "needs_background": "light"
     },
     "output_type": "display_data"
    }
   ],
   "source": [
    "pivot = df.pivot_table(index=['Country'], values=['Sales'], aggfunc={'median','mean','min'}).plot()"
   ]
  },
  {
   "cell_type": "code",
   "execution_count": null,
   "metadata": {},
   "outputs": [],
   "source": []
  }
 ],
 "metadata": {
  "kernelspec": {
   "display_name": "Python 3",
   "language": "python",
   "name": "python3"
  },
  "language_info": {
   "codemirror_mode": {
    "name": "ipython",
    "version": 3
   },
   "file_extension": ".py",
   "mimetype": "text/x-python",
   "name": "python",
   "nbconvert_exporter": "python",
   "pygments_lexer": "ipython3",
   "version": "3.7.3"
  }
 },
 "nbformat": 4,
 "nbformat_minor": 2
}
