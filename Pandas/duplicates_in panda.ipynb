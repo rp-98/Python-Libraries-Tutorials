{
 "cells": [
  {
   "cell_type": "code",
   "execution_count": 2,
   "metadata": {},
   "outputs": [
    {
     "name": "stdout",
     "output_type": "stream",
     "text": [
      "   Color      Shape\n",
      "0  Green  Rectangle\n",
      "1  Green  Rectangle\n",
      "2  Green     Square\n",
      "3   Blue  Rectangle\n",
      "4   Blue     Square\n",
      "5    Red     Square\n",
      "6    Red     Square\n",
      "7    Red  Rectangle\n"
     ]
    }
   ],
   "source": [
    "from pandas import DataFrame\n",
    "\n",
    "Boxes = {'Color': ['Green','Green','Green','Blue','Blue','Red','Red','Red'],\n",
    "         'Shape': ['Rectangle','Rectangle','Square','Rectangle','Square','Square','Square','Rectangle']\n",
    "        }\n",
    "\n",
    "df = DataFrame(Boxes, columns= ['Color','Shape'])\n",
    "print (df)"
   ]
  },
  {
   "cell_type": "code",
   "execution_count": 3,
   "metadata": {},
   "outputs": [
    {
     "name": "stdout",
     "output_type": "stream",
     "text": [
      "Color\n",
      "Blue     2\n",
      "Green    3\n",
      "Red      3\n",
      "dtype: int64\n"
     ]
    }
   ],
   "source": [
    "dups_color = df.pivot_table(index=['Color'], aggfunc='size')\n",
    "print (dups_color)"
   ]
  },
  {
   "cell_type": "code",
   "execution_count": 4,
   "metadata": {},
   "outputs": [
    {
     "name": "stdout",
     "output_type": "stream",
     "text": [
      "Shape\n",
      "Rectangle    4\n",
      "Square       4\n",
      "dtype: int64\n"
     ]
    }
   ],
   "source": [
    "dups_color = df.pivot_table(index=['Shape'], aggfunc='size')\n",
    "print (dups_color)"
   ]
  },
  {
   "cell_type": "code",
   "execution_count": 5,
   "metadata": {},
   "outputs": [
    {
     "name": "stdout",
     "output_type": "stream",
     "text": [
      "Color  Shape    \n",
      "Blue   Rectangle    1\n",
      "       Square       1\n",
      "Green  Rectangle    2\n",
      "       Square       1\n",
      "Red    Rectangle    1\n",
      "       Square       2\n",
      "dtype: int64\n"
     ]
    }
   ],
   "source": [
    "dups_color = df.pivot_table(index=['Color','Shape'], aggfunc='size')\n",
    "print (dups_color)"
   ]
  },
  {
   "cell_type": "code",
   "execution_count": 6,
   "metadata": {},
   "outputs": [
    {
     "name": "stdout",
     "output_type": "stream",
     "text": [
      "   values\n",
      "0     700\n",
      "1  ABC300\n",
      "2     700\n",
      "3  900XYZ\n",
      "4     800\n",
      "5     700\n",
      "6     800\n"
     ]
    }
   ],
   "source": [
    "import pandas as pd\n",
    "\n",
    "df = pd.DataFrame({'values': ['700','ABC300','700','900XYZ','800','700','800']})\n",
    "print (df)"
   ]
  },
  {
   "cell_type": "code",
   "execution_count": 7,
   "metadata": {},
   "outputs": [
    {
     "name": "stdout",
     "output_type": "stream",
     "text": [
      "   values\n",
      "0   700.0\n",
      "1     NaN\n",
      "2   700.0\n",
      "3     NaN\n",
      "4   800.0\n",
      "5   700.0\n",
      "6   800.0\n"
     ]
    }
   ],
   "source": [
    "df['values'] = pd.to_numeric(df['values'], errors='coerce')\n",
    "print(df)"
   ]
  },
  {
   "cell_type": "code",
   "execution_count": 8,
   "metadata": {},
   "outputs": [
    {
     "name": "stdout",
     "output_type": "stream",
     "text": [
      "values\n",
      "700.0    3\n",
      "800.0    2\n",
      "dtype: int64\n"
     ]
    }
   ],
   "source": [
    "dups_values = df.pivot_table(index=['values'], aggfunc='size')\n",
    "print (dups_values)"
   ]
  },
  {
   "cell_type": "code",
   "execution_count": 9,
   "metadata": {},
   "outputs": [
    {
     "name": "stdout",
     "output_type": "stream",
     "text": [
      "values\n",
      "700.0    3\n",
      "800.0    2\n",
      "NULL     2\n",
      "dtype: int64\n"
     ]
    }
   ],
   "source": [
    "df['values'] = df['values'].fillna('NULL')\n",
    "\n",
    "dups_values = df.pivot_table(index=['values'], aggfunc='size')\n",
    "print (dups_values)"
   ]
  },
  {
   "cell_type": "code",
   "execution_count": null,
   "metadata": {},
   "outputs": [],
   "source": []
  }
 ],
 "metadata": {
  "kernelspec": {
   "display_name": "Python 3",
   "language": "python",
   "name": "python3"
  },
  "language_info": {
   "codemirror_mode": {
    "name": "ipython",
    "version": 3
   },
   "file_extension": ".py",
   "mimetype": "text/x-python",
   "name": "python",
   "nbconvert_exporter": "python",
   "pygments_lexer": "ipython3",
   "version": "3.7.3"
  }
 },
 "nbformat": 4,
 "nbformat_minor": 2
}
