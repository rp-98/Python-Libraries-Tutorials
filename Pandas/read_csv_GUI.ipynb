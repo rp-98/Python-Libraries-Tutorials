{
 "cells": [
  {
   "cell_type": "code",
   "execution_count": null,
   "metadata": {},
   "outputs": [
    {
     "name": "stdout",
     "output_type": "stream",
     "text": [
      "     sepal_length  sepal_width  petal_length  petal_width         species\n",
      "0             5.1          3.5           1.4          0.2     Iris-setosa\n",
      "1             4.9          3.0           1.4          0.2     Iris-setosa\n",
      "2             4.7          3.2           1.3          0.2     Iris-setosa\n",
      "3             4.6          3.1           1.5          0.2     Iris-setosa\n",
      "4             5.0          3.6           1.4          0.2     Iris-setosa\n",
      "..            ...          ...           ...          ...             ...\n",
      "145           6.7          3.0           5.2          2.3  Iris-virginica\n",
      "146           6.3          2.5           5.0          1.9  Iris-virginica\n",
      "147           6.5          3.0           5.2          2.0  Iris-virginica\n",
      "148           6.2          3.4           5.4          2.3  Iris-virginica\n",
      "149           5.9          3.0           5.1          1.8  Iris-virginica\n",
      "\n",
      "[150 rows x 5 columns]\n"
     ]
    }
   ],
   "source": [
    "import tkinter as tk\n",
    "from tkinter import filedialog\n",
    "import pandas as pd\n",
    "\n",
    "root= tk.Tk()\n",
    "\n",
    "canvas1 = tk.Canvas(root, width = 300, height = 300, bg = 'lightsteelblue2', relief = 'raised')\n",
    "canvas1.pack()\n",
    "\n",
    "def getCSV ():\n",
    "    global df\n",
    "    \n",
    "    import_file_path = filedialog.askopenfilename()\n",
    "    df = pd.read_csv (import_file_path)\n",
    "    print (df)\n",
    "    \n",
    "browseButton_CSV = tk.Button(text=\"      Import CSV File     \", command=getCSV, bg='green', fg='white', font=('helvetica', 12, 'bold'))\n",
    "canvas1.create_window(150, 150, window=browseButton_CSV)\n",
    "\n",
    "root.mainloop()"
   ]
  },
  {
   "cell_type": "code",
   "execution_count": 3,
   "metadata": {},
   "outputs": [
    {
     "name": "stdout",
     "output_type": "stream",
     "text": [
      "            Brand  Price\n",
      "0     Honda Civic  22000\n",
      "1  Toyota Corolla  25000\n",
      "2      Ford Focus  27000\n",
      "3         Audi A4  35000\n"
     ]
    }
   ],
   "source": [
    "from pandas import DataFrame\n",
    "\n",
    "Cars = {'Brand': ['Honda Civic','Toyota Corolla','Ford Focus','Audi A4'],\n",
    "        'Price': [22000,25000,27000,35000]\n",
    "        }\n",
    "\n",
    "df = DataFrame(Cars,columns= ['Brand', 'Price'])\n",
    "\n",
    "print (df)"
   ]
  },
  {
   "cell_type": "code",
   "execution_count": 8,
   "metadata": {},
   "outputs": [],
   "source": [
    "export_excel = df.to_excel('car_model.xlsx',index=None,header=True)"
   ]
  },
  {
   "cell_type": "code",
   "execution_count": 10,
   "metadata": {},
   "outputs": [
    {
     "name": "stdout",
     "output_type": "stream",
     "text": [
      "            Product  Price\n",
      "0  Desktop Computer    700\n",
      "1            Tablet    250\n",
      "2            iPhone    800\n",
      "3            Laptop   1200\n"
     ]
    }
   ],
   "source": [
    "from pandas import DataFrame\n",
    "\n",
    "Data = {'Product': ['Desktop Computer','Tablet','iPhone','Laptop'],\n",
    "        'Price': [700,250,800,1200]\n",
    "        }\n",
    "\n",
    "df = DataFrame(Data, columns= ['Product', 'Price'])\n",
    "\n",
    "print (df)"
   ]
  },
  {
   "cell_type": "code",
   "execution_count": 11,
   "metadata": {},
   "outputs": [],
   "source": [
    "jas=df.to_json('electronic.jason')"
   ]
  },
  {
   "cell_type": "code",
   "execution_count": 36,
   "metadata": {},
   "outputs": [
    {
     "data": {
      "text/html": [
       "<div>\n",
       "<style scoped>\n",
       "    .dataframe tbody tr th:only-of-type {\n",
       "        vertical-align: middle;\n",
       "    }\n",
       "\n",
       "    .dataframe tbody tr th {\n",
       "        vertical-align: top;\n",
       "    }\n",
       "\n",
       "    .dataframe thead th {\n",
       "        text-align: right;\n",
       "    }\n",
       "</style>\n",
       "<table border=\"1\" class=\"dataframe\">\n",
       "  <thead>\n",
       "    <tr style=\"text-align: right;\">\n",
       "      <th></th>\n",
       "      <th>numbers</th>\n",
       "    </tr>\n",
       "  </thead>\n",
       "  <tbody>\n",
       "    <tr>\n",
       "      <td>0</td>\n",
       "      <td>0</td>\n",
       "    </tr>\n",
       "    <tr>\n",
       "      <td>1</td>\n",
       "      <td>1</td>\n",
       "    </tr>\n",
       "    <tr>\n",
       "      <td>2</td>\n",
       "      <td>2</td>\n",
       "    </tr>\n",
       "    <tr>\n",
       "      <td>3</td>\n",
       "      <td>3</td>\n",
       "    </tr>\n",
       "    <tr>\n",
       "      <td>4</td>\n",
       "      <td>4</td>\n",
       "    </tr>\n",
       "    <tr>\n",
       "      <td>5</td>\n",
       "      <td>5</td>\n",
       "    </tr>\n",
       "    <tr>\n",
       "      <td>6</td>\n",
       "      <td>6</td>\n",
       "    </tr>\n",
       "    <tr>\n",
       "      <td>7</td>\n",
       "      <td>7</td>\n",
       "    </tr>\n",
       "    <tr>\n",
       "      <td>8</td>\n",
       "      <td>8</td>\n",
       "    </tr>\n",
       "    <tr>\n",
       "      <td>9</td>\n",
       "      <td>9</td>\n",
       "    </tr>\n",
       "    <tr>\n",
       "      <td>10</td>\n",
       "      <td>10</td>\n",
       "    </tr>\n",
       "  </tbody>\n",
       "</table>\n",
       "</div>"
      ],
      "text/plain": [
       "    numbers\n",
       "0         0\n",
       "1         1\n",
       "2         2\n",
       "3         3\n",
       "4         4\n",
       "5         5\n",
       "6         6\n",
       "7         7\n",
       "8         8\n",
       "9         9\n",
       "10       10"
      ]
     },
     "execution_count": 36,
     "metadata": {},
     "output_type": "execute_result"
    }
   ],
   "source": [
    "#if conditions in df\n",
    "import numpy as np\n",
    "import pandas as pd\n",
    "df=pd.DataFrame(np.arange(11).reshape(11,1),columns=['numbers'])\n",
    "df"
   ]
  },
  {
   "cell_type": "code",
   "execution_count": 38,
   "metadata": {},
   "outputs": [
    {
     "name": "stdout",
     "output_type": "stream",
     "text": [
      "    numbers equal_or_lower_than_4?\n",
      "0         0                   True\n",
      "1         1                   True\n",
      "2         2                   True\n",
      "3         3                   True\n",
      "4         4                   True\n",
      "5         5                  False\n",
      "6         6                  False\n",
      "7         7                  False\n",
      "8         8                  False\n",
      "9         9                  False\n",
      "10       10                  False\n"
     ]
    }
   ],
   "source": [
    "df.loc[df.numbers <= 4, 'equal_or_lower_than_4?'] = 'True' \n",
    "df.loc[df.numbers > 4, 'equal_or_lower_than_4?'] = 'False' \n",
    "\n",
    "print (df)"
   ]
  },
  {
   "cell_type": "code",
   "execution_count": 39,
   "metadata": {},
   "outputs": [
    {
     "name": "stdout",
     "output_type": "stream",
     "text": [
      "    numbers equal_or_lower_than_4? equal_or_lower_than_6?\n",
      "0         0                   True                   True\n",
      "1         1                   True                   True\n",
      "2         2                   True                   True\n",
      "3         3                   True                   True\n",
      "4         4                   True                   True\n",
      "5         5                  False                   True\n",
      "6         6                  False                   True\n",
      "7         7                  False                  False\n",
      "8         8                  False                  False\n",
      "9         9                  False                  False\n",
      "10       10                  False                  False\n"
     ]
    }
   ],
   "source": [
    "df['equal_or_lower_than_6?'] = df['numbers'].apply(lambda x: 'True' if x <= 6 else 'False')\n",
    "\n",
    "print (df)"
   ]
  },
  {
   "cell_type": "code",
   "execution_count": 40,
   "metadata": {},
   "outputs": [
    {
     "name": "stdout",
     "output_type": "stream",
     "text": [
      "  First_name name_match\n",
      "0        Jon  Mis-Match\n",
      "1       Bill      Match\n",
      "2      Maria  Mis-Match\n",
      "3       Emma  Mis-Match\n"
     ]
    }
   ],
   "source": [
    "from pandas import DataFrame\n",
    "\n",
    "Names1 = {'First_name': ['Jon','Bill','Maria','Emma']}\n",
    "df = DataFrame(Names1,columns=['First_name'])\n",
    "\n",
    "df.loc[df.First_name == 'Bill', 'name_match'] = 'Match'  \n",
    "df.loc[df.First_name != 'Bill', 'name_match'] = 'Mis-Match'  \n",
    " \n",
    "print (df)"
   ]
  },
  {
   "cell_type": "code",
   "execution_count": 41,
   "metadata": {},
   "outputs": [
    {
     "name": "stdout",
     "output_type": "stream",
     "text": [
      "  First_name name_match\n",
      "0        Jon  Mis-Match\n",
      "1       Bill      Match\n",
      "2      Maria  Mis-Match\n",
      "3       Emma  Mis-Match\n"
     ]
    }
   ],
   "source": [
    "#using lambda function\n",
    "from pandas import DataFrame\n",
    "\n",
    "Names1 = {'First_name': ['Jon','Bill','Maria','Emma']}\n",
    "df = DataFrame(Names1,columns=['First_name'])\n",
    "\n",
    "df['name_match'] = df['First_name'].apply(lambda x: 'Match' if x == 'Bill' else 'Mis-Match')\n",
    "\n",
    "print (df)"
   ]
  },
  {
   "cell_type": "code",
   "execution_count": 42,
   "metadata": {},
   "outputs": [
    {
     "name": "stdout",
     "output_type": "stream",
     "text": [
      "  First_name name_match\n",
      "0        Jon  Mis-Match\n",
      "1       Bill      Match\n",
      "2      Maria  Mis-Match\n",
      "3       Emma      Match\n"
     ]
    }
   ],
   "source": [
    "from pandas import DataFrame\n",
    "\n",
    "Names1 = {'First_name': ['Jon','Bill','Maria','Emma']}\n",
    "df = DataFrame(Names1,columns=['First_name'])\n",
    "\n",
    "df.loc[(df.First_name == 'Bill') | (df.First_name == 'Emma'), 'name_match'] = 'Match'  \n",
    "df.loc[(df.First_name != 'Bill') & (df.First_name != 'Emma'), 'name_match'] = 'Mis-Match'  \n",
    "\n",
    "print (df)"
   ]
  },
  {
   "cell_type": "markdown",
   "metadata": {},
   "source": [
    "**Concatenate Column Values in Python using Pandas**"
   ]
  },
  {
   "cell_type": "code",
   "execution_count": 45,
   "metadata": {},
   "outputs": [
    {
     "name": "stdout",
     "output_type": "stream",
     "text": [
      "   Day Month  Year\n",
      "0    1   Jun  2016\n",
      "1    2   Jul  2017\n",
      "2    3   Aug  2018\n",
      "3    4   Sep  2019\n",
      "4    5   Oct  2020\n"
     ]
    }
   ],
   "source": [
    "from pandas import DataFrame \n",
    "\n",
    "Dates = {'Day': [1,2,3,4,5], \n",
    "        'Month': ['Jun','Jul','Aug','Sep','Oct'], \n",
    "        'Year': [2016,2017,2018,2019,2020]} \n",
    "\n",
    "df2 = DataFrame(Dates, columns= ['Day', 'Month','Year'])\n",
    "print (df2)"
   ]
  },
  {
   "cell_type": "code",
   "execution_count": 46,
   "metadata": {},
   "outputs": [
    {
     "data": {
      "text/html": [
       "<div>\n",
       "<style scoped>\n",
       "    .dataframe tbody tr th:only-of-type {\n",
       "        vertical-align: middle;\n",
       "    }\n",
       "\n",
       "    .dataframe tbody tr th {\n",
       "        vertical-align: top;\n",
       "    }\n",
       "\n",
       "    .dataframe thead th {\n",
       "        text-align: right;\n",
       "    }\n",
       "</style>\n",
       "<table border=\"1\" class=\"dataframe\">\n",
       "  <thead>\n",
       "    <tr style=\"text-align: right;\">\n",
       "      <th></th>\n",
       "      <th>Day</th>\n",
       "      <th>Month</th>\n",
       "      <th>Year</th>\n",
       "      <th>date</th>\n",
       "    </tr>\n",
       "  </thead>\n",
       "  <tbody>\n",
       "    <tr>\n",
       "      <td>0</td>\n",
       "      <td>1</td>\n",
       "      <td>Jun</td>\n",
       "      <td>2016</td>\n",
       "      <td>1-Jun-2016</td>\n",
       "    </tr>\n",
       "    <tr>\n",
       "      <td>1</td>\n",
       "      <td>2</td>\n",
       "      <td>Jul</td>\n",
       "      <td>2017</td>\n",
       "      <td>2-Jul-2017</td>\n",
       "    </tr>\n",
       "    <tr>\n",
       "      <td>2</td>\n",
       "      <td>3</td>\n",
       "      <td>Aug</td>\n",
       "      <td>2018</td>\n",
       "      <td>3-Aug-2018</td>\n",
       "    </tr>\n",
       "    <tr>\n",
       "      <td>3</td>\n",
       "      <td>4</td>\n",
       "      <td>Sep</td>\n",
       "      <td>2019</td>\n",
       "      <td>4-Sep-2019</td>\n",
       "    </tr>\n",
       "    <tr>\n",
       "      <td>4</td>\n",
       "      <td>5</td>\n",
       "      <td>Oct</td>\n",
       "      <td>2020</td>\n",
       "      <td>5-Oct-2020</td>\n",
       "    </tr>\n",
       "  </tbody>\n",
       "</table>\n",
       "</div>"
      ],
      "text/plain": [
       "   Day Month  Year        date\n",
       "0    1   Jun  2016  1-Jun-2016\n",
       "1    2   Jul  2017  2-Jul-2017\n",
       "2    3   Aug  2018  3-Aug-2018\n",
       "3    4   Sep  2019  4-Sep-2019\n",
       "4    5   Oct  2020  5-Oct-2020"
      ]
     },
     "execution_count": 46,
     "metadata": {},
     "output_type": "execute_result"
    }
   ],
   "source": [
    "df2['date'] = df2['Day'].map(str) + '-' + df2['Month'].map(str) + '-' + df2['Year'].map(str)\n",
    "df2"
   ]
  },
  {
   "cell_type": "code",
   "execution_count": 47,
   "metadata": {},
   "outputs": [],
   "source": [
    "#cancateing two dataframe\n"
   ]
  },
  {
   "cell_type": "code",
   "execution_count": 48,
   "metadata": {},
   "outputs": [
    {
     "name": "stdout",
     "output_type": "stream",
     "text": [
      "0    1-Jun-2016: Unemployment: 5.5; Interest: 1.75\n",
      "1     2-Jul-2017: Unemployment: 5.0; Interest: 1.5\n",
      "2    3-Aug-2018: Unemployment: 5.2; Interest: 1.25\n",
      "3     4-Sep-2019: Unemployment: 5.1; Interest: 1.5\n",
      "4     5-Oct-2020: Unemployment: 4.9; Interest: 2.0\n",
      "dtype: object\n"
     ]
    }
   ],
   "source": [
    "from pandas import DataFrame \n",
    "\n",
    "Dates = {'Day': [1,2,3,4,5], \n",
    "        'Month': ['Jun','Jul','Aug','Sep','Oct'], \n",
    "        'Year': [2016,2017,2018,2019,2020]} \n",
    "\n",
    "df1 = DataFrame(Dates, columns= ['Day', 'Month','Year']) \n",
    "\n",
    "\n",
    "Rates = {'Unemployment Rate': [5.5,5,5.2,5.1,4.9], \n",
    "         'Interest Rate': [1.75,1.5,1.25,1.5,2]} \n",
    "\n",
    "df2 = DataFrame(Rates, columns= ['Unemployment Rate', 'Interest Rate'])\n",
    "\n",
    "\n",
    "df_combined = df1['Day'].map(str) + '-' + df1['Month'].map(str) + '-' + df1['Year'].map(str) + ': ' + 'Unemployment: ' + df2['Unemployment Rate'].map(str) + '; ' + 'Interest: ' + df2['Interest Rate'].map(str)\n",
    "\n",
    "print (df_combined)"
   ]
  },
  {
   "cell_type": "code",
   "execution_count": 49,
   "metadata": {},
   "outputs": [],
   "source": [
    "from pandas import DataFrame \n",
    "\n",
    "Data1 = {'Set1': [55,22,11,77,33]} \n",
    "df1 = DataFrame(Data1, columns= ['Set1']) \n",
    "\n",
    "Data2 = {'Set2': [23,45,21,73,48]} \n",
    "df2 = DataFrame(Data2, columns= ['Set2'])\n",
    "\n",
    "Concatenated = df1['Set1'].map(str) + df2['Set2'].map(str)\n",
    "\n",
    "df_combined = DataFrame(Concatenated, columns=['Combined Values'])"
   ]
  },
  {
   "cell_type": "code",
   "execution_count": 50,
   "metadata": {},
   "outputs": [
    {
     "data": {
      "text/html": [
       "<div>\n",
       "<style scoped>\n",
       "    .dataframe tbody tr th:only-of-type {\n",
       "        vertical-align: middle;\n",
       "    }\n",
       "\n",
       "    .dataframe tbody tr th {\n",
       "        vertical-align: top;\n",
       "    }\n",
       "\n",
       "    .dataframe thead th {\n",
       "        text-align: right;\n",
       "    }\n",
       "</style>\n",
       "<table border=\"1\" class=\"dataframe\">\n",
       "  <thead>\n",
       "    <tr style=\"text-align: right;\">\n",
       "      <th></th>\n",
       "      <th>Combined Values</th>\n",
       "    </tr>\n",
       "  </thead>\n",
       "  <tbody>\n",
       "    <tr>\n",
       "      <td>0</td>\n",
       "      <td>5523</td>\n",
       "    </tr>\n",
       "    <tr>\n",
       "      <td>1</td>\n",
       "      <td>2245</td>\n",
       "    </tr>\n",
       "    <tr>\n",
       "      <td>2</td>\n",
       "      <td>1121</td>\n",
       "    </tr>\n",
       "    <tr>\n",
       "      <td>3</td>\n",
       "      <td>7773</td>\n",
       "    </tr>\n",
       "    <tr>\n",
       "      <td>4</td>\n",
       "      <td>3348</td>\n",
       "    </tr>\n",
       "  </tbody>\n",
       "</table>\n",
       "</div>"
      ],
      "text/plain": [
       "  Combined Values\n",
       "0            5523\n",
       "1            2245\n",
       "2            1121\n",
       "3            7773\n",
       "4            3348"
      ]
     },
     "execution_count": 50,
     "metadata": {},
     "output_type": "execute_result"
    }
   ],
   "source": [
    "df_combined"
   ]
  },
  {
   "cell_type": "code",
   "execution_count": null,
   "metadata": {},
   "outputs": [],
   "source": []
  }
 ],
 "metadata": {
  "kernelspec": {
   "display_name": "Python 3",
   "language": "python",
   "name": "python3"
  },
  "language_info": {
   "codemirror_mode": {
    "name": "ipython",
    "version": 3
   },
   "file_extension": ".py",
   "mimetype": "text/x-python",
   "name": "python",
   "nbconvert_exporter": "python",
   "pygments_lexer": "ipython3",
   "version": "3.7.3"
  }
 },
 "nbformat": 4,
 "nbformat_minor": 2
}
