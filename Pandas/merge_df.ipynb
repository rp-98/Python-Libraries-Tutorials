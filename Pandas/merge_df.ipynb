{
 "cells": [
  {
   "cell_type": "code",
   "execution_count": 2,
   "metadata": {},
   "outputs": [
    {
     "name": "stdout",
     "output_type": "stream",
     "text": [
      "   Client_ID   Client_Name\n",
      "0        111      Jon Snow\n",
      "1        222   Maria Green\n",
      "2        333    Bill Jones\n",
      "3        444      Rick Lee\n",
      "4        555  Pamela Lopez\n",
      " \n",
      "   Client_ID Client_Country\n",
      "0        111             UK\n",
      "1        222         Canada\n",
      "2        333          Spain\n",
      "3        444          China\n",
      "4        777         Brazil\n"
     ]
    }
   ],
   "source": [
    "import pandas as pd\n",
    "\n",
    "clients = {'Client_ID': [111,222,333,444,555],\n",
    "           'Client_Name': ['Jon Snow','Maria Green', 'Bill Jones','Rick Lee','Pamela Lopez']\n",
    "           }\n",
    "df1 = pd.DataFrame(clients,columns= ['Client_ID','Client_Name'])\n",
    "print(df1)\n",
    "print(' ')\n",
    "countries = {'Client_ID': [111,222,333,444,777],\n",
    "             'Client_Country': ['UK','Canada','Spain','China','Brazil']\n",
    "             }\n",
    "df2 = pd.DataFrame(countries,columns= ['Client_ID', 'Client_Country'])\n",
    "print(df2)"
   ]
  },
  {
   "cell_type": "code",
   "execution_count": 3,
   "metadata": {},
   "outputs": [
    {
     "name": "stdout",
     "output_type": "stream",
     "text": [
      "   Client_ID  Client_Name Client_Country\n",
      "0        111     Jon Snow             UK\n",
      "1        222  Maria Green         Canada\n",
      "2        333   Bill Jones          Spain\n",
      "3        444     Rick Lee          China\n"
     ]
    }
   ],
   "source": [
    "Inner_Join = pd.merge(df1, df2, how='inner', on=['Client_ID', 'Client_ID'])\n",
    "print(Inner_Join)"
   ]
  },
  {
   "cell_type": "code",
   "execution_count": 4,
   "metadata": {},
   "outputs": [
    {
     "name": "stdout",
     "output_type": "stream",
     "text": [
      "   Client_ID   Client_Name Client_Country\n",
      "0        111      Jon Snow             UK\n",
      "1        222   Maria Green         Canada\n",
      "2        333    Bill Jones          Spain\n",
      "3        444      Rick Lee          China\n",
      "4        555  Pamela Lopez            NaN\n"
     ]
    }
   ],
   "source": [
    "Left_Join = pd.merge(df1, df2, how='left', on=['Client_ID', 'Client_ID'])\n",
    "print(Left_Join)"
   ]
  },
  {
   "cell_type": "code",
   "execution_count": 5,
   "metadata": {},
   "outputs": [
    {
     "name": "stdout",
     "output_type": "stream",
     "text": [
      "   Client_ID  Client_Name Client_Country\n",
      "0        111     Jon Snow             UK\n",
      "1        222  Maria Green         Canada\n",
      "2        333   Bill Jones          Spain\n",
      "3        444     Rick Lee          China\n",
      "4        777          NaN         Brazil\n"
     ]
    }
   ],
   "source": [
    "Right_Join = pd.merge(df1, df2, how='right', on=['Client_ID', 'Client_ID'])\n",
    "print(Right_Join)"
   ]
  },
  {
   "cell_type": "code",
   "execution_count": 6,
   "metadata": {},
   "outputs": [
    {
     "name": "stdout",
     "output_type": "stream",
     "text": [
      "   Client_ID   Client_Name Client_Country\n",
      "0        111      Jon Snow             UK\n",
      "1        222   Maria Green         Canada\n",
      "2        333    Bill Jones          Spain\n",
      "3        444      Rick Lee          China\n",
      "4        555  Pamela Lopez            NaN\n",
      "5        777           NaN         Brazil\n"
     ]
    }
   ],
   "source": [
    "Outer_Join = pd.merge(df1, df2, how='outer', on=['Client_ID', 'Client_ID'])\n",
    "print(Outer_Join)"
   ]
  },
  {
   "cell_type": "markdown",
   "metadata": {},
   "source": [
    "**How to Convert String to Integer in Pandas DataFrame**"
   ]
  },
  {
   "cell_type": "code",
   "execution_count": 9,
   "metadata": {},
   "outputs": [
    {
     "name": "stdout",
     "output_type": "stream",
     "text": [
      "  Product Price\n",
      "0     AAA   210\n",
      "1     BBB   250\n"
     ]
    }
   ],
   "source": [
    "import pandas as pd\n",
    "\n",
    "Data = {'Product': ['AAA','BBB'],\n",
    "          'Price': ['210','250']}\n",
    "\n",
    "df = pd.DataFrame(Data)\n",
    "print (df)\n"
   ]
  },
  {
   "cell_type": "code",
   "execution_count": 8,
   "metadata": {},
   "outputs": [
    {
     "name": "stdout",
     "output_type": "stream",
     "text": [
      "Product    object\n",
      "Price      object\n",
      "dtype: object\n"
     ]
    }
   ],
   "source": [
    "print (df.dtypes)"
   ]
  },
  {
   "cell_type": "code",
   "execution_count": 10,
   "metadata": {},
   "outputs": [],
   "source": [
    "df['Price'] = df['Price'].astype(int)"
   ]
  },
  {
   "cell_type": "code",
   "execution_count": 11,
   "metadata": {},
   "outputs": [
    {
     "name": "stdout",
     "output_type": "stream",
     "text": [
      "Product    object\n",
      "Price       int32\n",
      "dtype: object\n"
     ]
    }
   ],
   "source": [
    "print (df.dtypes)"
   ]
  },
  {
   "cell_type": "code",
   "execution_count": 12,
   "metadata": {},
   "outputs": [
    {
     "name": "stdout",
     "output_type": "stream",
     "text": [
      "  Product  Price\n",
      "0     AAA    210\n",
      "1     BBB    250\n",
      "Product    object\n",
      "Price       int64\n",
      "dtype: object\n"
     ]
    }
   ],
   "source": [
    "import pandas as pd\n",
    "\n",
    "Data = {'Product': ['AAA','BBB'],\n",
    "          'Price': ['210','250']}\n",
    "\n",
    "df = pd.DataFrame(Data)\n",
    "df['Price'] = pd.to_numeric(df['Price'])\n",
    "\n",
    "print (df)\n",
    "print (df.dtypes)"
   ]
  },
  {
   "cell_type": "code",
   "execution_count": 13,
   "metadata": {},
   "outputs": [
    {
     "name": "stdout",
     "output_type": "stream",
     "text": [
      "  Product  Price\n",
      "0     AAA  210.0\n",
      "1     BBB  250.0\n",
      "2     CCC    NaN\n",
      "Product     object\n",
      "Price      float64\n",
      "dtype: object\n"
     ]
    }
   ],
   "source": [
    "import pandas as pd\n",
    "\n",
    "Data = {'Product': ['AAA','BBB','CCC'],\n",
    "          'Price': ['210','250','22XYZ']}\n",
    "\n",
    "df = pd.DataFrame(Data)\n",
    "df['Price'] = pd.to_numeric(df['Price'],errors='coerce')\n",
    "\n",
    "print (df)\n",
    "print (df.dtypes)"
   ]
  },
  {
   "cell_type": "code",
   "execution_count": null,
   "metadata": {},
   "outputs": [],
   "source": []
  }
 ],
 "metadata": {
  "kernelspec": {
   "display_name": "Python 3",
   "language": "python",
   "name": "python3"
  },
  "language_info": {
   "codemirror_mode": {
    "name": "ipython",
    "version": 3
   },
   "file_extension": ".py",
   "mimetype": "text/x-python",
   "name": "python",
   "nbconvert_exporter": "python",
   "pygments_lexer": "ipython3",
   "version": "3.7.3"
  }
 },
 "nbformat": 4,
 "nbformat_minor": 2
}
