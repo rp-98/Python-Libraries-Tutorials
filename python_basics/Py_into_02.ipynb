{
 "cells": [
  {
   "cell_type": "code",
   "execution_count": null,
   "metadata": {},
   "outputs": [],
   "source": [
    "# Introduction to Python"
   ]
  },
  {
   "cell_type": "code",
   "execution_count": null,
   "metadata": {},
   "outputs": [],
   "source": [
    "# Example of if statements"
   ]
  },
  {
   "cell_type": "code",
   "execution_count": null,
   "metadata": {},
   "outputs": [],
   "source": [
    "b = input(\"Please input an integer between 1 and 100\")\n",
    "a = int(b)\n",
    "if a <= 50:\n",
    "    print(\"Input number is less than or equal to 50\")\n",
    "else:\n",
    "    print(\"Input number is greater than 50\")\n",
    "    print(\"I am still in the if block\")\n",
    "    \n",
    "print(\"Now I am out of the if block\")"
   ]
  },
  {
   "cell_type": "code",
   "execution_count": null,
   "metadata": {},
   "outputs": [],
   "source": [
    "# Example of while, and what to do if you get into an infinite loop (use of 'kernel interrupt')\n",
    "i = 0\n",
    "while (i < 5):\n",
    "    i = i+1\n",
    "    print(i)"
   ]
  },
  {
   "cell_type": "code",
   "execution_count": 1,
   "metadata": {},
   "outputs": [
    {
     "name": "stdout",
     "output_type": "stream",
     "text": [
      "range(0, 5)\n",
      "<class 'range'>\n"
     ]
    }
   ],
   "source": [
    "a = range(5)\n",
    "print(a)\n",
    "print(type(a))"
   ]
  },
  {
   "cell_type": "code",
   "execution_count": 2,
   "metadata": {},
   "outputs": [
    {
     "name": "stdout",
     "output_type": "stream",
     "text": [
      "['one', 'Two', 'Three']\n",
      "one\n",
      "Two\n",
      "Three\n"
     ]
    }
   ],
   "source": [
    "a = [\"one\", \"Two\", \"Three\"]\n",
    "print(a)\n",
    "for i in a:\n",
    "    print(i)"
   ]
  },
  {
   "cell_type": "code",
   "execution_count": null,
   "metadata": {},
   "outputs": [],
   "source": [
    "a = []\n",
    "a.append(\"one\")\n",
    "print(a)"
   ]
  },
  {
   "cell_type": "code",
   "execution_count": null,
   "metadata": {},
   "outputs": [],
   "source": [
    "def isEven(num):\n",
    "    print(\"The number is %d\" %num)\n",
    "    if(num % 2 == 0):\n",
    "        return True\n",
    "    else:\n",
    "        return False\n",
    "    \n",
    "print(isEven(10))\n",
    "print(isEven(11))\n",
    "\n",
    "# What if the function does not return any value ... how do you define such functions"
   ]
  },
  {
   "cell_type": "code",
   "execution_count": null,
   "metadata": {},
   "outputs": [],
   "source": [
    "def myTrial(avar: int) -> float:\n",
    "    return avar / 2.0\n",
    "\n",
    "print(myTrial(1))"
   ]
  },
  {
   "cell_type": "code",
   "execution_count": null,
   "metadata": {},
   "outputs": [],
   "source": [
    "mylist = [1,2,3]\n",
    "def change_list(arg1,tba):\n",
    "    arg1.append(tba)\n",
    "    print(\"Inside the function\", arg1)\n",
    "    \n",
    "change_list(mylist,4)\n",
    "print(\"Outside the function\", mylist)"
   ]
  },
  {
   "cell_type": "code",
   "execution_count": null,
   "metadata": {},
   "outputs": [],
   "source": [
    "def mySum(a):\n",
    "    print(type(a))\n",
    "    mysum = 0;\n",
    "    for i in a:\n",
    "        mysum = mysum + i\n",
    "    return mysum\n",
    "\n",
    "print(mySum([1,2]))"
   ]
  },
  {
   "cell_type": "code",
   "execution_count": null,
   "metadata": {},
   "outputs": [],
   "source": [
    "def mult_by_3(a):\n",
    "    return a * 3\n",
    "\n",
    "incr_by_10 = lambda a : a + 10\n",
    "\n",
    "def foreach(alist, afunction):\n",
    "    newlist = []\n",
    "    for i in alist:\n",
    "        i = afunction(i)\n",
    "        newlist.append(i)\n",
    "    return newlist\n",
    "\n",
    "mylist = [1,2,3]\n",
    "\n",
    "print(foreach(mylist, lambda a : a*2))\n",
    "print(foreach(mylist, mult_by_3))\n",
    "print(foreach(mylist, incr_by_10))\n",
    "print(foreach(mylist, lambda a : print(a)))\n"
   ]
  },
  {
   "cell_type": "code",
   "execution_count": null,
   "metadata": {},
   "outputs": [],
   "source": [
    "def isPangram(asentence):\n",
    "    alphas = \"abcdefghijklmnopqrstuvwxyz\"\n",
    "    for i in alphas:\n",
    "        if (i not in asentence):\n",
    "            return False\n",
    "        else:\n",
    "            #print(\"Found \", i)\n",
    "            continue\n",
    "    return True\n",
    "\n",
    "print(isPangram(\"the quick brown fox jumps over the lazy dog\"))"
   ]
  }
 ],
 "metadata": {
  "kernelspec": {
   "display_name": "Python 3",
   "language": "python",
   "name": "python3"
  },
  "language_info": {
   "codemirror_mode": {
    "name": "ipython",
    "version": 3
   },
   "file_extension": ".py",
   "mimetype": "text/x-python",
   "name": "python",
   "nbconvert_exporter": "python",
   "pygments_lexer": "ipython3",
   "version": "3.7.3"
  }
 },
 "nbformat": 4,
 "nbformat_minor": 2
}
