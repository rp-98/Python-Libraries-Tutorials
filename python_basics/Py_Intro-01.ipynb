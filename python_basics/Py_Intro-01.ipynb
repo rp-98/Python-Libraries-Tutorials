{
 "cells": [
  {
   "cell_type": "code",
   "execution_count": null,
   "metadata": {},
   "outputs": [],
   "source": [
    "# Introduction to Python\n",
    "# This is a comment\n",
    "# Homework\n",
    "# 1. How to print two or more formatted float numbers or strtings\n",
    "# 2. Searching an item in a list"
   ]
  },
  {
   "cell_type": "code",
   "execution_count": 3,
   "metadata": {},
   "outputs": [
    {
     "name": "stdout",
     "output_type": "stream",
     "text": [
      "<class 'str'>\n",
      "<class 'int'>\n",
      "abc\n"
     ]
    }
   ],
   "source": [
    "a = \"abc\"\n",
    "a.capitalize()\n",
    "print(type(a))\n",
    "b = 123\n",
    "print(type(b))\n",
    "print(a)"
   ]
  },
  {
   "cell_type": "code",
   "execution_count": 1,
   "metadata": {},
   "outputs": [
    {
     "name": "stdout",
     "output_type": "stream",
     "text": [
      "<class 'int'>\n",
      "<class 'float'>\n",
      "<class 'str'>\n",
      "<class 'complex'>\n",
      "(6+6j)\n"
     ]
    }
   ],
   "source": [
    "a = 1\n",
    "b = 1.0\n",
    "c = \"1\"\n",
    "d = 5 + 6j\n",
    "print(type(a))\n",
    "print(type(b))\n",
    "print(type(c))\n",
    "print(type(d))\n",
    "\n",
    "e=d + a\n",
    "print(e)\n",
    "\n"
   ]
  },
  {
   "cell_type": "code",
   "execution_count": 5,
   "metadata": {},
   "outputs": [
    {
     "name": "stdout",
     "output_type": "stream",
     "text": [
      "Today is Saturdayand tomorrow is Sunday\n",
      "Today is Saturdayand tomorrow is SundayToday is Saturdayand tomorrow is SundayToday is Saturdayand tomorrow is Sunday\n"
     ]
    }
   ],
   "source": [
    "a = \"Today is Saturday\" \"and tomorrow is Sunday\"\n",
    "print(a)\n",
    "print( a * 3)"
   ]
  },
  {
   "cell_type": "code",
   "execution_count": 6,
   "metadata": {},
   "outputs": [
    {
     "name": "stdout",
     "output_type": "stream",
     "text": [
      "1\n",
      "2\n",
      "3\n",
      "(3+8j)\n"
     ]
    }
   ],
   "source": [
    "a,b,c,d = 1,2,\"3\",3+8j\n",
    "print(a)\n",
    "print(b)\n",
    "print(c)\n",
    "print(d)"
   ]
  },
  {
   "cell_type": "code",
   "execution_count": 7,
   "metadata": {},
   "outputs": [
    {
     "name": "stdout",
     "output_type": "stream",
     "text": [
      "Please input the value of a: 12\n",
      "The type of a is:  <class 'str'>\n",
      "The type of b is:  <class 'int'>\n",
      "The value of a is:  12\n",
      "The value of b is:  12\n"
     ]
    }
   ],
   "source": [
    "a = input(\"Please input the value of a: \")\n",
    "b = int(a)\n",
    "print(\"The type of a is: \", type(a))\n",
    "print(\"The type of b is: \", type(b))\n",
    "print(\"The value of a is: \", a)\n",
    "print(\"The value of b is: \", b)"
   ]
  },
  {
   "cell_type": "code",
   "execution_count": 8,
   "metadata": {},
   "outputs": [
    {
     "name": "stdout",
     "output_type": "stream",
     "text": [
      "t\n"
     ]
    }
   ],
   "source": [
    "a = \"today is Saturday\"\n",
    "print(a[0]) \n",
    "i = 1\n"
   ]
  },
  {
   "cell_type": "code",
   "execution_count": null,
   "metadata": {},
   "outputs": [],
   "source": [
    "# Homework\n",
    "a = 2/3\n",
    "#print(\"value is %s and tomorrow is %s\" %(\"Saturday\"))\n",
    "print(\"value is %s and tomorrow is %s\" %(\"Saturday\", \"Sunday\"))"
   ]
  },
  {
   "cell_type": "code",
   "execution_count": null,
   "metadata": {},
   "outputs": [],
   "source": [
    "a = 1>2\n",
    "b = 1<2\n",
    "print(a)\n",
    "print(b)\n",
    "print(type(b))"
   ]
  },
  {
   "cell_type": "code",
   "execution_count": null,
   "metadata": {},
   "outputs": [],
   "source": [
    "a = print(\"one\")\n",
    "print(type(a))"
   ]
  },
  {
   "cell_type": "code",
   "execution_count": 9,
   "metadata": {},
   "outputs": [
    {
     "name": "stdout",
     "output_type": "stream",
     "text": [
      "['one', 'two', 'three', 'four']\n"
     ]
    }
   ],
   "source": [
    "# Example of List\n",
    "a = [\"one\", \"two\", \"three\"]\n",
    "a.append(\"four\")\n",
    "print(a)"
   ]
  },
  {
   "cell_type": "code",
   "execution_count": 10,
   "metadata": {},
   "outputs": [
    {
     "name": "stdout",
     "output_type": "stream",
     "text": [
      "{1, 3, 5, 7, 9, 10}\n",
      "True\n",
      "False\n"
     ]
    }
   ],
   "source": [
    "# Example of Set\n",
    "aset = {1,3,5,7,9}\n",
    "aset.add(9)\n",
    "aset.add(10)\n",
    "print(aset)\n",
    "b = 7 in aset\n",
    "c = 11 in aset\n",
    "print(b)\n",
    "print(c)"
   ]
  },
  {
   "cell_type": "code",
   "execution_count": 11,
   "metadata": {},
   "outputs": [
    {
     "name": "stdout",
     "output_type": "stream",
     "text": [
      "New Delhi\n"
     ]
    }
   ],
   "source": [
    "# Example of Dictionary\n",
    "capital = {\"India\":\"New Delhi\", \"Pakistan\":\"Islamabad\", \"Bangladesh\":\"Dhaka\"}\n",
    "print(capital[\"India\"])"
   ]
  },
  {
   "cell_type": "code",
   "execution_count": 12,
   "metadata": {},
   "outputs": [
    {
     "name": "stdout",
     "output_type": "stream",
     "text": [
      "<class 'tuple'>\n",
      "<built-in method count of tuple object at 0x0000023351EE9A98>\n"
     ]
    }
   ],
   "source": [
    "# Example of Tuple\n",
    "t = (1,\"one\",\"uno\",\"Ein\")\n",
    "print(type(t))\n",
    "print(t.count)"
   ]
  },
  {
   "cell_type": "code",
   "execution_count": 13,
   "metadata": {},
   "outputs": [
    {
     "data": {
      "text/plain": [
       "'Hello World'"
      ]
     },
     "execution_count": 13,
     "metadata": {},
     "output_type": "execute_result"
    }
   ],
   "source": [
    "\"Hello World\"[::1]"
   ]
  },
  {
   "cell_type": "code",
   "execution_count": 2,
   "metadata": {},
   "outputs": [
    {
     "data": {
      "text/plain": [
       "[1, 4]"
      ]
     },
     "execution_count": 2,
     "metadata": {},
     "output_type": "execute_result"
    }
   ],
   "source": [
    "l2 = [1,2,3,4,5]\n",
    "type(l2[0])\n",
    "l2[::3]"
   ]
  },
  {
   "cell_type": "code",
   "execution_count": 16,
   "metadata": {},
   "outputs": [],
   "source": [
    "t1 = (1,3,5)"
   ]
  },
  {
   "cell_type": "code",
   "execution_count": 18,
   "metadata": {},
   "outputs": [
    {
     "data": {
      "text/plain": [
       "5"
      ]
     },
     "execution_count": 18,
     "metadata": {},
     "output_type": "execute_result"
    }
   ],
   "source": [
    "t1[2]"
   ]
  },
  {
   "cell_type": "code",
   "execution_count": 19,
   "metadata": {},
   "outputs": [
    {
     "data": {
      "text/plain": [
       "'achcha'"
      ]
     },
     "execution_count": 19,
     "metadata": {},
     "output_type": "execute_result"
    }
   ],
   "source": [
    "dict1 = {\"Good\":\"achcha\", \"Bad\":\"Bura\"}\n",
    "dict1[\"Good\"]\n"
   ]
  },
  {
   "cell_type": "code",
   "execution_count": null,
   "metadata": {},
   "outputs": [],
   "source": []
  }
 ],
 "metadata": {
  "kernelspec": {
   "display_name": "Python 3",
   "language": "python",
   "name": "python3"
  },
  "language_info": {
   "codemirror_mode": {
    "name": "ipython",
    "version": 3
   },
   "file_extension": ".py",
   "mimetype": "text/x-python",
   "name": "python",
   "nbconvert_exporter": "python",
   "pygments_lexer": "ipython3",
   "version": "3.7.3"
  }
 },
 "nbformat": 4,
 "nbformat_minor": 2
}
